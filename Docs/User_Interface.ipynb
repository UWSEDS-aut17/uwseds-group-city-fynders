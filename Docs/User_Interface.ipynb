{
 "cells": [
  {
   "cell_type": "markdown",
   "metadata": {},
   "source": [
    "# User Interface "
   ]
  },
  {
   "cell_type": "code",
   "execution_count": null,
   "metadata": {
    "collapsed": true
   },
   "outputs": [],
   "source": [
    "import dash\n",
    "import dash_core_components as dcc\n",
    "import dash_html_components as html\n",
    "import pandas as pd\n",
    "from plotly.offline import download_plotlyjs, init_notebook_mode, plot, iplot\n",
    "from plotly_usmap import usmap"
   ]
  },
  {
   "cell_type": "markdown",
   "metadata": {},
   "source": [
    "## 1. Set up options for Dropdown "
   ]
  },
  {
   "cell_type": "code",
   "execution_count": null,
   "metadata": {
    "collapsed": true
   },
   "outputs": [],
   "source": [
    "rank = pd.read_csv('rank_file.csv')\n",
    "\n",
    "# Create a list of indicators \n",
    "available = list(rank.columns.values)\n",
    "for i in ['Unnamed: 0','City','State','Population','Natural_total_rank', 'Human_related_rank', \n",
    "          'Economy_rank', 'Tertiary_Rank', 'Latitude', 'Longitude']:\n",
    "    available.remove(i)\n",
    "    \n",
    "# Create a list of labels for dropdown\n",
    "labels = ['Fewer Crimes','More Hospitals','Early Education Options',\n",
    "          'University Options','Air Quality','Water Quality',\n",
    "           'Fewer Toxics','Fewer Hazardous Particles','Green Coverage',\n",
    "           'Employment Rate','Sales Revenue','Income','Tuition Affordability',\n",
    "          'Bars','Restaurants','Museums','Libraries','Parks','Top Restaurants']\n",
    "\n",
    "# Put available and labels in a two-dimensional list\n",
    "pairs = [available,labels]"
   ]
  },
  {
   "cell_type": "markdown",
   "metadata": {},
   "source": [
    "## 2. Set up layout for User Interface"
   ]
  },
  {
   "cell_type": "code",
   "execution_count": null,
   "metadata": {},
   "outputs": [],
   "source": [
    "app = dash.Dash()\n",
    "# Get DataFrame value\n",
    "import UI_setup\n",
    "app.layout = UI_setup.layout_setup(pairs)\n",
    "\n"
   ]
  },
  {
   "cell_type": "markdown",
   "metadata": {},
   "source": [
    "## 3.Set up for default graph"
   ]
  },
  {
   "cell_type": "code",
   "execution_count": null,
   "metadata": {
    "collapsed": true
   },
   "outputs": [],
   "source": [
    "@app.callback(\n",
    "    dash.dependencies.Output('Total-graphic', 'figure'),\n",
    "    [dash.dependencies.Input('Total', 'n_clicks')]\n",
    ")\n",
    "def total_graph(Total):\n",
    "    if(Total is None):\n",
    "        return\n",
    "    #Total general rank\n",
    "    return {\n",
    "           usmap(rank)    \n",
    "        }"
   ]
  },
  {
   "cell_type": "code",
   "execution_count": null,
   "metadata": {
    "collapsed": true
   },
   "outputs": [],
   "source": [
    "@app.callback(\n",
    "    dash.dependencies.Output('Human-graphic', 'figure'),\n",
    "    [dash.dependencies.Input('Hrank', 'n_clicks')]\n",
    ")\n",
    "def total_graph(Hrank):\n",
    "    if(Hrank is None):\n",
    "        return\n",
    "    #Total general rank\n",
    "    return {\n",
    "           usmap(rank, 'human')    \n",
    "        }"
   ]
  },
  {
   "cell_type": "code",
   "execution_count": null,
   "metadata": {},
   "outputs": [],
   "source": [
    "@app.callback(\n",
    "    dash.dependencies.Output('Natural-graphic', 'figure'),\n",
    "    [dash.dependencies.Input('Nrank', 'n_clicks')]\n",
    ")\n",
    "def total_graph(Nrank):\n",
    "    if(Nrank is None):\n",
    "        return\n",
    "    #Total general rank\n",
    "    return {\n",
    "           usmap(rank, 'natural')    \n",
    "        }"
   ]
  },
  {
   "cell_type": "code",
   "execution_count": null,
   "metadata": {
    "collapsed": true
   },
   "outputs": [],
   "source": [
    "@app.callback(\n",
    "    dash.dependencies.Output('Economic-graphic', 'figure'),\n",
    "    [dash.dependencies.Input('Erank', 'n_clicks')]\n",
    ")\n",
    "def total_graph(Erank):\n",
    "    if(Erank is None):\n",
    "        return\n",
    "    #Total general rank\n",
    "    return {\n",
    "           usmap(rank, 'economy')    \n",
    "        }"
   ]
  },
  {
   "cell_type": "code",
   "execution_count": null,
   "metadata": {
    "collapsed": true
   },
   "outputs": [],
   "source": [
    "@app.callback(\n",
    "    dash.dependencies.Output('Tertiary-graphic', 'figure'),\n",
    "    [dash.dependencies.Input('Trank', 'n_clicks')]\n",
    ")\n",
    "def total_graph(Trank):\n",
    "    if(Trank is None):\n",
    "        return\n",
    "    #Total general rank\n",
    "    return {\n",
    "           usmap(rank, 'tertiary')    \n",
    "        }"
   ]
  },
  {
   "cell_type": "markdown",
   "metadata": {},
   "source": [
    "## 4.Set up for user call"
   ]
  },
  {
   "cell_type": "code",
   "execution_count": null,
   "metadata": {},
   "outputs": [],
   "source": [
    "@app.callback(\n",
    "    dash.dependencies.Output('User-graphic', 'figure'),\n",
    "    [dash.dependencies.Input('Search', 'n_clicks')],\n",
    "    [dash.dependencies.State('First-care', 'value'),\n",
    "     dash.dependencies.State('Second-care', 'value'),\n",
    "     dash.dependencies.State('Third-care', 'value'),\n",
    "     dash.dependencies.State('Fourth-care', 'value'),\n",
    "     dash.dependencies.State('Fifth-care', 'value'),\n",
    "    ]\n",
    ")\n",
    "    \n",
    "def update_graph(Search, First_care, Second_care, Third_care, Fourth_care, Fifth_care):\n",
    "    df = UI_setup.newdf(rank, First_care, Second_care, Third_care, Fourth_care, Fifth_care)\n",
    "    \n",
    "    limits = [(0,10),(10,20),(20,30),(30,40),(40,50)]\n",
    "    colors = [\"rgb(0,116,217)\",\"rgb(255,65,54)\",\"rgb(133,20,75)\",\"rgb(255,133,27)\",\"lightgrey\"]\n",
    "    cities = []\n",
    "\n",
    "\n",
    "    for i in range(len(limits)):\n",
    "        lim = limits[i]\n",
    "        df_sub = df[lim[0]:lim[1]]\n",
    "        city = dict(\n",
    "            type = 'scattergeo',\n",
    "            locationmode = 'USA-states',\n",
    "            lon = df_sub['longitude'],\n",
    "            lat = df_sub['latitude'],\n",
    "            text = df_sub['text'],\n",
    "            marker = dict(\n",
    "                size = df_sub['reverse_rank']*15,\n",
    "                color = colors[i],\n",
    "                line = dict(width=0.5, color='rgb(40,40,40)'),\n",
    "                sizemode = 'area'\n",
    "            ),\n",
    "            name = '{0} - {1}'.format(lim[0],lim[1]) )\n",
    "        cities.append(city)\n",
    "\n",
    "        layout = dict(\n",
    "            title = 'Your Dream City Results',\n",
    "            showlegend = True,\n",
    "            geo = dict(\n",
    "                scope='usa',\n",
    "                projection=dict( type='albers usa' ),\n",
    "                showland = True,\n",
    "                landcolor = 'rgb(217, 217, 217)',\n",
    "                subunitwidth=1,\n",
    "                countrywidth=1,\n",
    "                subunitcolor=\"rgb(255, 255, 255)\",\n",
    "                countrycolor=\"rgb(255, 255, 255)\"\n",
    "            ),\n",
    "        )\n",
    "        fig = dict( data=cities, layout=layout )\n",
    "        \n",
    "    return {   \n",
    "        plotly.offline.plot( fig, validate=False )     \n",
    "    }"
   ]
  },
  {
   "cell_type": "markdown",
   "metadata": {},
   "source": [
    "## 5. Running"
   ]
  },
  {
   "cell_type": "code",
   "execution_count": null,
   "metadata": {},
   "outputs": [],
   "source": [
    "app.run_server()"
   ]
  }
 ],
 "metadata": {
  "kernelspec": {
   "display_name": "Python 3",
   "language": "python",
   "name": "python3"
  },
  "language_info": {
   "codemirror_mode": {
    "name": "ipython",
    "version": 3
   },
   "file_extension": ".py",
   "mimetype": "text/x-python",
   "name": "python",
   "nbconvert_exporter": "python",
   "pygments_lexer": "ipython3",
   "version": "3.6.2"
  }
 },
 "nbformat": 4,
 "nbformat_minor": 2
}
