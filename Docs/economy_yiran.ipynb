{
 "cells": [
  {
   "cell_type": "code",
   "execution_count": 63,
   "metadata": {
    "collapsed": true
   },
   "outputs": [],
   "source": [
    "import pandas as pd\n",
    "import matplotlib.pyplot as plt"
   ]
  },
  {
   "cell_type": "code",
   "execution_count": 64,
   "metadata": {
    "collapsed": true
   },
   "outputs": [],
   "source": [
    "economy = pd.read_csv('Economy.csv')"
   ]
  },
  {
   "cell_type": "code",
   "execution_count": 65,
   "metadata": {},
   "outputs": [
    {
     "data": {
      "text/html": [
       "<div>\n",
       "<style>\n",
       "    .dataframe thead tr:only-child th {\n",
       "        text-align: right;\n",
       "    }\n",
       "\n",
       "    .dataframe thead th {\n",
       "        text-align: left;\n",
       "    }\n",
       "\n",
       "    .dataframe tbody tr th {\n",
       "        vertical-align: top;\n",
       "    }\n",
       "</style>\n",
       "<table border=\"1\" class=\"dataframe\">\n",
       "  <thead>\n",
       "    <tr style=\"text-align: right;\">\n",
       "      <th></th>\n",
       "      <th>City</th>\n",
       "      <th>State</th>\n",
       "      <th>Percent unemployment</th>\n",
       "      <th>State sale tax rate</th>\n",
       "      <th>Local tax rate</th>\n",
       "      <th>Total rate</th>\n",
       "      <th>Median Income</th>\n",
       "      <th>AvgTuition</th>\n",
       "    </tr>\n",
       "  </thead>\n",
       "  <tbody>\n",
       "    <tr>\n",
       "      <th>0</th>\n",
       "      <td>Atlanta</td>\n",
       "      <td>GA</td>\n",
       "      <td>10.2</td>\n",
       "      <td>0.040</td>\n",
       "      <td>0.049</td>\n",
       "      <td>0.089</td>\n",
       "      <td>59345.0</td>\n",
       "      <td>10309.0</td>\n",
       "    </tr>\n",
       "    <tr>\n",
       "      <th>1</th>\n",
       "      <td>Austin</td>\n",
       "      <td>TX</td>\n",
       "      <td>6.3</td>\n",
       "      <td>0.063</td>\n",
       "      <td>0.020</td>\n",
       "      <td>0.083</td>\n",
       "      <td>65886.0</td>\n",
       "      <td>8729.0</td>\n",
       "    </tr>\n",
       "    <tr>\n",
       "      <th>2</th>\n",
       "      <td>Baltimore</td>\n",
       "      <td>MD</td>\n",
       "      <td>11.1</td>\n",
       "      <td>0.060</td>\n",
       "      <td>0.000</td>\n",
       "      <td>0.060</td>\n",
       "      <td>50492.0</td>\n",
       "      <td>12273.0</td>\n",
       "    </tr>\n",
       "    <tr>\n",
       "      <th>3</th>\n",
       "      <td>Birmingham</td>\n",
       "      <td>AL</td>\n",
       "      <td>NaN</td>\n",
       "      <td>4.050</td>\n",
       "      <td>0.060</td>\n",
       "      <td>0.100</td>\n",
       "      <td>NaN</td>\n",
       "      <td>NaN</td>\n",
       "    </tr>\n",
       "    <tr>\n",
       "      <th>4</th>\n",
       "      <td>Boston</td>\n",
       "      <td>MA</td>\n",
       "      <td>6.6</td>\n",
       "      <td>0.063</td>\n",
       "      <td>0.000</td>\n",
       "      <td>0.063</td>\n",
       "      <td>62180.0</td>\n",
       "      <td>20442.0</td>\n",
       "    </tr>\n",
       "  </tbody>\n",
       "</table>\n",
       "</div>"
      ],
      "text/plain": [
       "         City State  Percent unemployment  State sale tax rate  \\\n",
       "0     Atlanta    GA                  10.2                0.040   \n",
       "1      Austin    TX                   6.3                0.063   \n",
       "2   Baltimore    MD                  11.1                0.060   \n",
       "3  Birmingham    AL                   NaN                4.050   \n",
       "4      Boston    MA                   6.6                0.063   \n",
       "\n",
       "   Local tax rate  Total rate  Median Income  AvgTuition  \n",
       "0           0.049       0.089        59345.0     10309.0  \n",
       "1           0.020       0.083        65886.0      8729.0  \n",
       "2           0.000       0.060        50492.0     12273.0  \n",
       "3           0.060       0.100            NaN         NaN  \n",
       "4           0.000       0.063        62180.0     20442.0  "
      ]
     },
     "execution_count": 65,
     "metadata": {},
     "output_type": "execute_result"
    }
   ],
   "source": [
    "economy.head()"
   ]
  },
  {
   "cell_type": "code",
   "execution_count": 66,
   "metadata": {},
   "outputs": [
    {
     "data": {
      "text/plain": [
       "City                     object\n",
       "State                    object\n",
       "Percent unemployment    float64\n",
       "State sale tax rate     float64\n",
       "Local tax rate          float64\n",
       "Total rate              float64\n",
       "Median Income           float64\n",
       "AvgTuition              float64\n",
       "dtype: object"
      ]
     },
     "execution_count": 66,
     "metadata": {},
     "output_type": "execute_result"
    }
   ],
   "source": [
    "economy.dtypes"
   ]
  },
  {
   "cell_type": "code",
   "execution_count": 81,
   "metadata": {},
   "outputs": [
    {
     "data": {
      "text/html": [
       "<div>\n",
       "<style>\n",
       "    .dataframe thead tr:only-child th {\n",
       "        text-align: right;\n",
       "    }\n",
       "\n",
       "    .dataframe thead th {\n",
       "        text-align: left;\n",
       "    }\n",
       "\n",
       "    .dataframe tbody tr th {\n",
       "        vertical-align: top;\n",
       "    }\n",
       "</style>\n",
       "<table border=\"1\" class=\"dataframe\">\n",
       "  <thead>\n",
       "    <tr style=\"text-align: right;\">\n",
       "      <th></th>\n",
       "      <th>City</th>\n",
       "      <th>State</th>\n",
       "      <th>Percent unemployment</th>\n",
       "      <th>State sale tax rate</th>\n",
       "      <th>Local tax rate</th>\n",
       "      <th>Total rate</th>\n",
       "      <th>Median Income</th>\n",
       "      <th>AvgTuition</th>\n",
       "      <th>Rank_Unemployment</th>\n",
       "      <th>Rank_Sales</th>\n",
       "      <th>Rank_Income</th>\n",
       "      <th>Rank_Tution</th>\n",
       "      <th>Sum</th>\n",
       "      <th>Economy_rank</th>\n",
       "      <th>Economy_ref</th>\n",
       "      <th>Lat</th>\n",
       "      <th>Lon</th>\n",
       "      <th>Rank_Tuition</th>\n",
       "    </tr>\n",
       "  </thead>\n",
       "  <tbody>\n",
       "    <tr>\n",
       "      <th>4</th>\n",
       "      <td>Boston</td>\n",
       "      <td>MA</td>\n",
       "      <td>6.6</td>\n",
       "      <td>0.063</td>\n",
       "      <td>0.000</td>\n",
       "      <td>0.063</td>\n",
       "      <td>62180.0</td>\n",
       "      <td>20442.0</td>\n",
       "      <td>6.0</td>\n",
       "      <td>4.5</td>\n",
       "      <td>25.0</td>\n",
       "      <td>1.0</td>\n",
       "      <td>36.5</td>\n",
       "      <td>1.0</td>\n",
       "      <td>50.0</td>\n",
       "      <td>42.360482</td>\n",
       "      <td>-71.059568</td>\n",
       "      <td>1.0</td>\n",
       "    </tr>\n",
       "    <tr>\n",
       "      <th>33</th>\n",
       "      <td>Pittsburgh</td>\n",
       "      <td>PA</td>\n",
       "      <td>7.0</td>\n",
       "      <td>0.060</td>\n",
       "      <td>0.010</td>\n",
       "      <td>0.070</td>\n",
       "      <td>51907.0</td>\n",
       "      <td>10852.0</td>\n",
       "      <td>8.0</td>\n",
       "      <td>17.0</td>\n",
       "      <td>11.0</td>\n",
       "      <td>11.5</td>\n",
       "      <td>47.5</td>\n",
       "      <td>2.0</td>\n",
       "      <td>49.0</td>\n",
       "      <td>40.441694</td>\n",
       "      <td>-79.990086</td>\n",
       "      <td>11.5</td>\n",
       "    </tr>\n",
       "    <tr>\n",
       "      <th>48</th>\n",
       "      <td>Virginia Beach</td>\n",
       "      <td>VA</td>\n",
       "      <td>5.7</td>\n",
       "      <td>0.053</td>\n",
       "      <td>0.007</td>\n",
       "      <td>0.060</td>\n",
       "      <td>76637.0</td>\n",
       "      <td>13255.0</td>\n",
       "      <td>2.5</td>\n",
       "      <td>13.0</td>\n",
       "      <td>31.0</td>\n",
       "      <td>9.0</td>\n",
       "      <td>55.5</td>\n",
       "      <td>3.0</td>\n",
       "      <td>48.0</td>\n",
       "      <td>36.795302</td>\n",
       "      <td>-76.050925</td>\n",
       "      <td>9.0</td>\n",
       "    </tr>\n",
       "    <tr>\n",
       "      <th>2</th>\n",
       "      <td>Baltimore</td>\n",
       "      <td>MD</td>\n",
       "      <td>11.1</td>\n",
       "      <td>0.060</td>\n",
       "      <td>0.000</td>\n",
       "      <td>0.060</td>\n",
       "      <td>50492.0</td>\n",
       "      <td>12273.0</td>\n",
       "      <td>34.5</td>\n",
       "      <td>4.5</td>\n",
       "      <td>10.0</td>\n",
       "      <td>10.0</td>\n",
       "      <td>59.0</td>\n",
       "      <td>4.0</td>\n",
       "      <td>47.0</td>\n",
       "      <td>39.290882</td>\n",
       "      <td>-76.610759</td>\n",
       "      <td>10.0</td>\n",
       "    </tr>\n",
       "    <tr>\n",
       "      <th>15</th>\n",
       "      <td>Houston</td>\n",
       "      <td>TX</td>\n",
       "      <td>7.6</td>\n",
       "      <td>0.063</td>\n",
       "      <td>0.020</td>\n",
       "      <td>0.083</td>\n",
       "      <td>48889.0</td>\n",
       "      <td>8729.0</td>\n",
       "      <td>14.0</td>\n",
       "      <td>27.5</td>\n",
       "      <td>8.0</td>\n",
       "      <td>21.5</td>\n",
       "      <td>71.0</td>\n",
       "      <td>5.5</td>\n",
       "      <td>45.5</td>\n",
       "      <td>29.758938</td>\n",
       "      <td>-95.367697</td>\n",
       "      <td>21.5</td>\n",
       "    </tr>\n",
       "  </tbody>\n",
       "</table>\n",
       "</div>"
      ],
      "text/plain": [
       "              City State  Percent unemployment  State sale tax rate  \\\n",
       "4           Boston    MA                   6.6                0.063   \n",
       "33      Pittsburgh    PA                   7.0                0.060   \n",
       "48  Virginia Beach    VA                   5.7                0.053   \n",
       "2        Baltimore    MD                  11.1                0.060   \n",
       "15         Houston    TX                   7.6                0.063   \n",
       "\n",
       "    Local tax rate  Total rate  Median Income  AvgTuition  Rank_Unemployment  \\\n",
       "4            0.000       0.063        62180.0     20442.0                6.0   \n",
       "33           0.010       0.070        51907.0     10852.0                8.0   \n",
       "48           0.007       0.060        76637.0     13255.0                2.5   \n",
       "2            0.000       0.060        50492.0     12273.0               34.5   \n",
       "15           0.020       0.083        48889.0      8729.0               14.0   \n",
       "\n",
       "    Rank_Sales  Rank_Income  Rank_Tution   Sum  Economy_rank  Economy_ref  \\\n",
       "4          4.5         25.0          1.0  36.5           1.0         50.0   \n",
       "33        17.0         11.0         11.5  47.5           2.0         49.0   \n",
       "48        13.0         31.0          9.0  55.5           3.0         48.0   \n",
       "2          4.5         10.0         10.0  59.0           4.0         47.0   \n",
       "15        27.5          8.0         21.5  71.0           5.5         45.5   \n",
       "\n",
       "          Lat        Lon  Rank_Tuition  \n",
       "4   42.360482 -71.059568           1.0  \n",
       "33  40.441694 -79.990086          11.5  \n",
       "48  36.795302 -76.050925           9.0  \n",
       "2   39.290882 -76.610759          10.0  \n",
       "15  29.758938 -95.367697          21.5  "
      ]
     },
     "execution_count": 81,
     "metadata": {},
     "output_type": "execute_result"
    }
   ],
   "source": [
    "economy['Rank_Unemployment'] = economy['Percent unemployment'].rank(ascending = 1)\n",
    "economy['Rank_Sales'] = economy['Local tax rate'].rank(ascending = 1)\n",
    "economy['Rank_Income'] = economy['Median Income'].rank(ascending = 1) \n",
    "economy['Rank_Tuition'] = economy['AvgTuition'].rank(ascending = 0)\n",
    "economy.head()"
   ]
  },
  {
   "cell_type": "code",
   "execution_count": 82,
   "metadata": {},
   "outputs": [],
   "source": [
    "economy['Rank_Unemployment'].fillna(economy['Rank_Unemployment'].max() + 1, inplace=True)\n",
    "economy['Rank_Sales'].fillna(economy['Rank_Sales'].max() + 1, inplace=True)\n",
    "economy['Rank_Income'].fillna(economy['Rank_Income'].max() + 1, inplace=True)\n",
    "economy['Rank_Tuition'].fillna(economy['Rank_Tuition'].max() + 1, inplace=True)"
   ]
  },
  {
   "cell_type": "code",
   "execution_count": 84,
   "metadata": {},
   "outputs": [],
   "source": [
    "economy['Sum'] = (economy['Rank_Unemployment'] + economy['Rank_Sales'] + \n",
    "                  economy['Rank_Income'] + economy['Rank_Tuition'])"
   ]
  },
  {
   "cell_type": "code",
   "execution_count": 85,
   "metadata": {},
   "outputs": [],
   "source": [
    "#economy.dtypes"
   ]
  },
  {
   "cell_type": "code",
   "execution_count": 86,
   "metadata": {
    "collapsed": true
   },
   "outputs": [],
   "source": [
    "economy['Economy_rank'] = economy['Sum'].rank(ascending = 1)"
   ]
  },
  {
   "cell_type": "code",
   "execution_count": 87,
   "metadata": {
    "scrolled": true
   },
   "outputs": [],
   "source": [
    "economy['Economy_ref'] = economy['Sum'].rank(ascending = 0)"
   ]
  },
  {
   "cell_type": "code",
   "execution_count": 88,
   "metadata": {},
   "outputs": [
    {
     "data": {
      "text/html": [
       "<div>\n",
       "<style>\n",
       "    .dataframe thead tr:only-child th {\n",
       "        text-align: right;\n",
       "    }\n",
       "\n",
       "    .dataframe thead th {\n",
       "        text-align: left;\n",
       "    }\n",
       "\n",
       "    .dataframe tbody tr th {\n",
       "        vertical-align: top;\n",
       "    }\n",
       "</style>\n",
       "<table border=\"1\" class=\"dataframe\">\n",
       "  <thead>\n",
       "    <tr style=\"text-align: right;\">\n",
       "      <th></th>\n",
       "      <th>City</th>\n",
       "      <th>State</th>\n",
       "      <th>Percent unemployment</th>\n",
       "      <th>State sale tax rate</th>\n",
       "      <th>Local tax rate</th>\n",
       "      <th>Total rate</th>\n",
       "      <th>Median Income</th>\n",
       "      <th>AvgTuition</th>\n",
       "      <th>Rank_Unemployment</th>\n",
       "      <th>Rank_Sales</th>\n",
       "      <th>Rank_Income</th>\n",
       "      <th>Rank_Tution</th>\n",
       "      <th>Sum</th>\n",
       "      <th>Economy_rank</th>\n",
       "      <th>Economy_ref</th>\n",
       "      <th>Lat</th>\n",
       "      <th>Lon</th>\n",
       "      <th>Rank_Tuition</th>\n",
       "    </tr>\n",
       "  </thead>\n",
       "  <tbody>\n",
       "    <tr>\n",
       "      <th>4</th>\n",
       "      <td>Boston</td>\n",
       "      <td>MA</td>\n",
       "      <td>6.6</td>\n",
       "      <td>0.063</td>\n",
       "      <td>0.000</td>\n",
       "      <td>0.063</td>\n",
       "      <td>62180.0</td>\n",
       "      <td>20442.0</td>\n",
       "      <td>6.0</td>\n",
       "      <td>4.5</td>\n",
       "      <td>25.0</td>\n",
       "      <td>1.0</td>\n",
       "      <td>36.5</td>\n",
       "      <td>1.0</td>\n",
       "      <td>50.0</td>\n",
       "      <td>42.360482</td>\n",
       "      <td>-71.059568</td>\n",
       "      <td>1.0</td>\n",
       "    </tr>\n",
       "    <tr>\n",
       "      <th>33</th>\n",
       "      <td>Pittsburgh</td>\n",
       "      <td>PA</td>\n",
       "      <td>7.0</td>\n",
       "      <td>0.060</td>\n",
       "      <td>0.010</td>\n",
       "      <td>0.070</td>\n",
       "      <td>51907.0</td>\n",
       "      <td>10852.0</td>\n",
       "      <td>8.0</td>\n",
       "      <td>17.0</td>\n",
       "      <td>11.0</td>\n",
       "      <td>11.5</td>\n",
       "      <td>47.5</td>\n",
       "      <td>2.0</td>\n",
       "      <td>49.0</td>\n",
       "      <td>40.441694</td>\n",
       "      <td>-79.990086</td>\n",
       "      <td>11.5</td>\n",
       "    </tr>\n",
       "    <tr>\n",
       "      <th>48</th>\n",
       "      <td>Virginia Beach</td>\n",
       "      <td>VA</td>\n",
       "      <td>5.7</td>\n",
       "      <td>0.053</td>\n",
       "      <td>0.007</td>\n",
       "      <td>0.060</td>\n",
       "      <td>76637.0</td>\n",
       "      <td>13255.0</td>\n",
       "      <td>2.5</td>\n",
       "      <td>13.0</td>\n",
       "      <td>31.0</td>\n",
       "      <td>9.0</td>\n",
       "      <td>55.5</td>\n",
       "      <td>3.0</td>\n",
       "      <td>48.0</td>\n",
       "      <td>36.795302</td>\n",
       "      <td>-76.050925</td>\n",
       "      <td>9.0</td>\n",
       "    </tr>\n",
       "    <tr>\n",
       "      <th>2</th>\n",
       "      <td>Baltimore</td>\n",
       "      <td>MD</td>\n",
       "      <td>11.1</td>\n",
       "      <td>0.060</td>\n",
       "      <td>0.000</td>\n",
       "      <td>0.060</td>\n",
       "      <td>50492.0</td>\n",
       "      <td>12273.0</td>\n",
       "      <td>34.5</td>\n",
       "      <td>4.5</td>\n",
       "      <td>10.0</td>\n",
       "      <td>10.0</td>\n",
       "      <td>59.0</td>\n",
       "      <td>4.0</td>\n",
       "      <td>47.0</td>\n",
       "      <td>39.290882</td>\n",
       "      <td>-76.610759</td>\n",
       "      <td>10.0</td>\n",
       "    </tr>\n",
       "    <tr>\n",
       "      <th>15</th>\n",
       "      <td>Houston</td>\n",
       "      <td>TX</td>\n",
       "      <td>7.6</td>\n",
       "      <td>0.063</td>\n",
       "      <td>0.020</td>\n",
       "      <td>0.083</td>\n",
       "      <td>48889.0</td>\n",
       "      <td>8729.0</td>\n",
       "      <td>14.0</td>\n",
       "      <td>27.5</td>\n",
       "      <td>8.0</td>\n",
       "      <td>21.5</td>\n",
       "      <td>71.0</td>\n",
       "      <td>5.5</td>\n",
       "      <td>45.5</td>\n",
       "      <td>29.758938</td>\n",
       "      <td>-95.367697</td>\n",
       "      <td>21.5</td>\n",
       "    </tr>\n",
       "  </tbody>\n",
       "</table>\n",
       "</div>"
      ],
      "text/plain": [
       "              City State  Percent unemployment  State sale tax rate  \\\n",
       "4           Boston    MA                   6.6                0.063   \n",
       "33      Pittsburgh    PA                   7.0                0.060   \n",
       "48  Virginia Beach    VA                   5.7                0.053   \n",
       "2        Baltimore    MD                  11.1                0.060   \n",
       "15         Houston    TX                   7.6                0.063   \n",
       "\n",
       "    Local tax rate  Total rate  Median Income  AvgTuition  Rank_Unemployment  \\\n",
       "4            0.000       0.063        62180.0     20442.0                6.0   \n",
       "33           0.010       0.070        51907.0     10852.0                8.0   \n",
       "48           0.007       0.060        76637.0     13255.0                2.5   \n",
       "2            0.000       0.060        50492.0     12273.0               34.5   \n",
       "15           0.020       0.083        48889.0      8729.0               14.0   \n",
       "\n",
       "    Rank_Sales  Rank_Income  Rank_Tution   Sum  Economy_rank  Economy_ref  \\\n",
       "4          4.5         25.0          1.0  36.5           1.0         50.0   \n",
       "33        17.0         11.0         11.5  47.5           2.0         49.0   \n",
       "48        13.0         31.0          9.0  55.5           3.0         48.0   \n",
       "2          4.5         10.0         10.0  59.0           4.0         47.0   \n",
       "15        27.5          8.0         21.5  71.0           5.5         45.5   \n",
       "\n",
       "          Lat        Lon  Rank_Tuition  \n",
       "4   42.360482 -71.059568           1.0  \n",
       "33  40.441694 -79.990086          11.5  \n",
       "48  36.795302 -76.050925           9.0  \n",
       "2   39.290882 -76.610759          10.0  \n",
       "15  29.758938 -95.367697          21.5  "
      ]
     },
     "execution_count": 88,
     "metadata": {},
     "output_type": "execute_result"
    }
   ],
   "source": [
    "economy.head()"
   ]
  },
  {
   "cell_type": "code",
   "execution_count": 73,
   "metadata": {
    "collapsed": true
   },
   "outputs": [],
   "source": [
    "economy.to_csv('Economy_Rank.csv')"
   ]
  },
  {
   "cell_type": "code",
   "execution_count": 89,
   "metadata": {},
   "outputs": [
    {
     "data": {
      "text/plain": [
       "<matplotlib.collections.PathCollection at 0x1ec5ca9fd30>"
      ]
     },
     "execution_count": 89,
     "metadata": {},
     "output_type": "execute_result"
    },
    {
     "data": {
      "image/png": "[encoded data removed]",
      "text/plain": [
       "<matplotlib.figure.Figure at 0x1ec5ca50f28>"
      ]
     },
     "metadata": {},
     "output_type": "display_data"
    }
   ],
   "source": [
    "#Basic Graph Analysis\n",
    "%matplotlib inline  \n",
    "plt.scatter(economy['Local tax rate'],economy['Economy_rank'])"
   ]
  },
  {
   "cell_type": "code",
   "execution_count": 75,
   "metadata": {},
   "outputs": [
    {
     "data": {
      "text/plain": [
       "<matplotlib.collections.PathCollection at 0x1ec5c9dffd0>"
      ]
     },
     "execution_count": 75,
     "metadata": {},
     "output_type": "execute_result"
    },
    {
     "data": {
      "image/png": "[encoded data removed]",
      "text/plain": [
       "<matplotlib.figure.Figure at 0x1ec5c964e10>"
      ]
     },
     "metadata": {},
     "output_type": "display_data"
    }
   ],
   "source": [
    "plt.scatter(economy['Median Income'], economy['Economy_rank'])"
   ]
  },
  {
   "cell_type": "code",
   "execution_count": 76,
   "metadata": {},
   "outputs": [],
   "source": [
    "#Get the Geodata\n",
    "import pandas as pd\n",
    "from geopy.geocoders import Nominatim\n",
    "geolocator = Nominatim()\n",
    "n = len(economy)\n",
    "cname = []\n",
    "for i in range(0, n):\n",
    "    cname.append(economy['City'][i])\n",
    "b = []\n",
    "c = []\n",
    "for j in range(0, n):\n",
    "    city = cname[j] \n",
    "    if city == 'San Francisco':\n",
    "        loc = geolocator.geocode(94105)\n",
    "        b.append(loc.latitude)\n",
    "        c.append(loc.longitude)\n",
    "    else:\n",
    "        loc = geolocator.geocode(city + ' United States')\n",
    "        b.append(loc.latitude)\n",
    "        c.append(loc.longitude)\n",
    "economy['Lat'] = b\n",
    "economy['Lon'] = c\n",
    "# economy.to_csv('economy_loc.csv')"
   ]
  },
  {
   "cell_type": "code",
   "execution_count": 91,
   "metadata": {},
   "outputs": [
    {
     "data": {
      "text/plain": [
       "'file://C:\\\\Users\\\\dell\\\\Documents\\\\cse583\\\\Homework\\\\d3-bubble-map-populations.html'"
      ]
     },
     "execution_count": 91,
     "metadata": {},
     "output_type": "execute_result"
    }
   ],
   "source": [
    "#Geo plotting\n",
    "import plotly\n",
    "import plotly.plotly as py\n",
    "import pandas as pd\n",
    "\n",
    "\n",
    "economy = economy.sort_values('Economy_rank', ascending = 1)\n",
    "df = economy\n",
    "df.head()\n",
    "df['text'] =df['City'] + '<br># Final Rank ' + (df['Economy_rank']).astype(str)+ '<br># Sales_Rank ' +\\\n",
    "             (df['Rank_Sales']).astype(str)+ '<br># Unemployment_Rank ' + (df['Rank_Unemployment']).astype(str)+\\\n",
    "             '<br># Income_Rank ' + (df['Rank_Income']).astype(str)+'<br># Tuition_Rank ' + (df['Rank_Tuition']).astype(str)\n",
    "\n",
    "# df['text'] = df['name'] + '<br>Population ' + (df['pop']/1e6).astype(str)+' million'\n",
    "limits = [(0,10),(10,20),(20,30),(30,40),(40,50)]\n",
    "colors = [\"rgb(0,116,217)\",\"rgb(255,65,54)\",\"rgb(133,20,75)\",\"rgb(255,133,27)\",\"lightgrey\"]\n",
    "cities = []\n",
    "scale = 5000\n",
    "\n",
    "def combine(ls):\n",
    "    text = ls[0] + ':' + str(int(ls[1]))\n",
    "    return text\n",
    "\n",
    "\n",
    "for i in range(len(limits)):\n",
    "    lim = limits[i]\n",
    "    df_sub = df[lim[0]:lim[1]]\n",
    "    city = dict(\n",
    "        type = 'scattergeo',\n",
    "        locationmode = 'USA-states',\n",
    "        lon = df_sub['Lon'],\n",
    "        lat = df_sub['Lat'],\n",
    "        text = df_sub['text'],\n",
    "        marker = dict(\n",
    "            size = df_sub['Economy_ref']*30,\n",
    "            color = colors[i],\n",
    "            line = dict(width=0.5, color='rgb(40,40,40)'),\n",
    "            sizemode = 'area'\n",
    "        ),\n",
    "        name = '{0} - {1}'.format(lim[0],lim[1]) )\n",
    "    cities.append(city)\n",
    "\n",
    "layout = dict(\n",
    "        title = 'City Ranking by Economy',\n",
    "        showlegend = True,\n",
    "        geo = dict(\n",
    "            scope='usa',\n",
    "            projection=dict( type='albers usa' ),\n",
    "            showland = True,\n",
    "            landcolor = 'rgb(217, 217, 217)',\n",
    "            subunitwidth=1,\n",
    "            countrywidth=1,\n",
    "            subunitcolor=\"rgb(255, 255, 255)\",\n",
    "            countrycolor=\"rgb(255, 255, 255)\"\n",
    "        ),\n",
    "    )\n",
    "\n",
    "fig = dict( data=cities, layout=layout )\n",
    "plotly.offline.plot( fig, validate=False, filename='d3-bubble-map-populations.html' )"
   ]
  },
  {
   "cell_type": "code",
   "execution_count": null,
   "metadata": {
    "collapsed": true
   },
   "outputs": [],
   "source": []
  },
  {
   "cell_type": "code",
   "execution_count": null,
   "metadata": {
    "collapsed": true
   },
   "outputs": [],
   "source": []
  }
 ],
 "metadata": {
  "kernelspec": {
   "display_name": "Python 3",
   "language": "python",
   "name": "python3"
  },
  "language_info": {
   "codemirror_mode": {
    "name": "ipython",
    "version": 3
   },
   "file_extension": ".py",
   "mimetype": "text/x-python",
   "name": "python",
   "nbconvert_exporter": "python",
   "pygments_lexer": "ipython3",
   "version": "3.6.2"
  }
 },
 "nbformat": 4,
 "nbformat_minor": 2
}
