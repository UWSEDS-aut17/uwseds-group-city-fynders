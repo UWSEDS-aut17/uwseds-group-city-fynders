{
 "cells": [
  {
   "cell_type": "code",
   "execution_count": 1,
   "metadata": {
    "collapsed": true
   },
   "outputs": [],
   "source": [
    "import pandas as pd\n",
    "import numpy as np"
   ]
  },
  {
   "cell_type": "code",
   "execution_count": 2,
   "metadata": {
    "collapsed": true
   },
   "outputs": [],
   "source": [
    "human = pd.read_csv('../data/human_related.csv')\n",
    "economy = pd.read_csv('../data/economy.csv')\n",
    "natural = pd.read_csv('../data/Natural.csv')\n",
    "tertiary = pd.read_csv(\"../data/tertiary.csv\")"
   ]
  },
  {
   "cell_type": "code",
   "execution_count": 3,
   "metadata": {
    "collapsed": true
   },
   "outputs": [],
   "source": [
    "#human related\n",
    "human['total crime'] = human['Violent']+human['Rape']+human['Robbery']\n",
    "human['crime_rank'] = human['total crime'].rank(ascending=1)\n",
    "human['crime_rank'].fillna(human['crime_rank'].max() + 1,inplace=True)\n",
    "human['hospital_rank']= human['NumHospital'].rank(ascending=0)\n",
    "human['hospital_rank'].fillna(human['hospital_rank'].max() + 1,inplace=True)\n",
    "human['early_education_rank'] = human['AvgSATScore'].rank(ascending=0)\n",
    "human['early_education_rank'].fillna(human['early_education_rank'].max() + 1,inplace=True)\n",
    "human['Population'] = pd.to_numeric(human['Population'], errors ='coerce')\n",
    "a = np.multiply(human['Percent_graduate_degree'], human['Population'])\n",
    "a= a.rank(ascending=0)\n",
    "b = human['Colleges'].rank(ascending=0)\n",
    "\n",
    "human['old_education_rank'] = (a+b).rank(ascending=1)\n",
    "human['old_education_rank'].fillna(human['old_education_rank'].max() + 1,inplace=True)\n",
    "human['Human_related_rank'] = (human['crime_rank'] + human['hospital_rank'] + human['early_education_rank'] +\\\n",
    "                               human['old_education_rank']).rank(ascending=1)"
   ]
  },
  {
   "cell_type": "code",
   "execution_count": 4,
   "metadata": {
    "collapsed": true
   },
   "outputs": [],
   "source": [
    "#natural\n",
    "natural['Air'] = natural['Air'].rank(ascending=0)\n",
    "natural['Water_quality'] = natural['Water_quality'].rank(ascending=0)\n",
    "natural['Toxics'] = natural['Toxics'].rank(ascending=0)\n",
    "natural['Hazardous'] = natural['Hazardous'].rank(ascending=0)\n",
    "natural['Green_score_rank'] = natural['Green_score'].rank(ascending=1)\n",
    "natural['Green_score_rank'].fillna(natural['Green_score_rank'].max()+1, inplace=True)\n",
    "natural['Sanitation'].fillna(natural['Sanitation'].max()+1, inplace=True)\n",
    "\n",
    "natural['Natural_total_score'] = (natural['Air'] + natural['Water_quality'] + natural['Toxics'] \n",
    "                                  + natural['Hazardous'] + natural['Green_score_rank'])\n",
    "natural['Natural_total_rank'] = natural['Natural_total_score'].rank(ascending=1)"
   ]
  },
  {
   "cell_type": "code",
   "execution_count": 5,
   "metadata": {
    "collapsed": true,
    "scrolled": true
   },
   "outputs": [],
   "source": [
    "#economy\n",
    "economy['Rank_Unemployment'] = economy['Percent unemployment'].rank(ascending = 1)\n",
    "economy['Rank_Sales'] = economy['Local tax rate'].rank(ascending = 1)\n",
    "economy['Rank_Income'] = economy['Median Income'].rank(ascending = 0) \n",
    "economy['Rank_Tuition'] = economy['AvgTuition'].rank(ascending = 1)\n",
    "economy['Rank_Unemployment'].fillna(economy['Rank_Unemployment'].max() + 1, inplace=True)\n",
    "economy['Rank_Sales'].fillna(economy['Rank_Sales'].max() + 1, inplace=True)\n",
    "economy['Rank_Income'].fillna(economy['Rank_Income'].max() + 1, inplace=True)\n",
    "economy['Rank_Tuition'].fillna(economy['Rank_Tuition'].max() + 1, inplace=True)\n",
    "economy['Sum'] = (economy['Rank_Unemployment'] + economy['Rank_Sales'] + \n",
    "                  economy['Rank_Income'] + economy['Rank_Tuition'])\n",
    "economy['Economy_rank'] = economy['Sum'].rank(ascending = 1)\n"
   ]
  },
  {
   "cell_type": "code",
   "execution_count": 6,
   "metadata": {
    "collapsed": true
   },
   "outputs": [],
   "source": [
    "#tertiary\n",
    "tertiary['Bar_Rank'] = tertiary['Bars'].rank(ascending = 0)\n",
    "tertiary['Restaurant_Rank'] = tertiary['Restaurant'].rank(ascending = 0)\n",
    "tertiary['Museums_Rank'] = tertiary['Museums'].rank(ascending = 0)\n",
    "tertiary['Libraries_Rank'] = tertiary['Libraries'].rank(ascending = 0)\n",
    "tertiary['Park_Rank'] = tertiary['Park_acres_per_1000_residents'].rank(ascending = 0)\n",
    "tertiary['TopRes_Rank'] = tertiary['NumTop200Restau'].rank(ascending = 0)\n",
    "tertiary['Bar_Rank'].fillna(tertiary['Bar_Rank'].max() + 1,inplace=True)\n",
    "tertiary['Restaurant_Rank'].fillna(tertiary['Restaurant_Rank'].max() + 1,inplace=True)\n",
    "tertiary['Museums_Rank'].fillna(tertiary['Museums_Rank'].max() + 1,inplace=True)\n",
    "tertiary['Libraries_Rank'].fillna(tertiary['Libraries_Rank'].max()+1,inplace=True)\n",
    "tertiary['Park_Rank'].fillna(tertiary['Park_Rank'].max() + 1,inplace=True)\n",
    "tertiary['TopRes_Rank'].fillna(tertiary['TopRes_Rank'].max() + 1,inplace=True)\n",
    "tertiary['Total_Rank'] = tertiary['Bar_Rank'] + tertiary['Restaurant_Rank'] + tertiary['Museums_Rank'] +\\\n",
    "                        tertiary['Libraries_Rank'] + tertiary['Park_Rank'] + tertiary['TopRes_Rank']\n",
    "tertiary['Tertiary_Rank'] = tertiary['Total_Rank'].rank(ascending = 1)"
   ]
  },
  {
   "cell_type": "code",
   "execution_count": 7,
   "metadata": {
    "collapsed": true
   },
   "outputs": [],
   "source": [
    "import geopy as gy\n",
    "from geopy.geocoders import Nominatim\n",
    "geolocator = Nominatim()\n",
    "Lat = []\n",
    "Lon = []\n",
    "for index, row in human.iterrows():\n",
    "    if row['City'] == \"San Francisco\":\n",
    "        loc = geolocator.geocode(94015)\n",
    "        Lat.append(loc.latitude)\n",
    "        Lon.append(loc.longitude)\n",
    "    else:\n",
    "        loc = geolocator.geocode(row['City']  + ' United States')\n",
    "        Lat.append(loc.latitude)\n",
    "        Lon.append(loc.longitude)\n"
   ]
  },
  {
   "cell_type": "code",
   "execution_count": 8,
   "metadata": {
    "collapsed": true
   },
   "outputs": [],
   "source": [
    "rank = pd.DataFrame()\n",
    "rank['City'] = human['City']\n",
    "rank['State'] = human['State']\n",
    "rank['Population'] = human['Population']\n",
    "\n",
    "rank['Crime_rank'] = human['crime_rank']\n",
    "rank['Hospital_rank'] = human['hospital_rank']\n",
    "rank['Early_education_rank'] = human['early_education_rank']\n",
    "rank['University_education_rank'] = human['old_education_rank']\n",
    "rank['Human_related_rank'] = human['Human_related_rank']\n",
    "\n",
    "rank['Air'] = natural['Air']\n",
    "rank['Water'] = natural['Water_quality']\n",
    "rank['Toxics'] = natural['Toxics']\n",
    "rank['Hazardous'] = natural['Hazardous']\n",
    "rank['Green_score'] = natural['Green_score_rank']\n",
    "rank['Natural_total_rank'] = natural['Natural_total_rank']\n",
    "\n",
    "rank['Rank_unemployment'] = economy['Rank_Unemployment']\n",
    "rank['Rank_sale_rate'] = economy['Rank_Sales']\n",
    "rank['Rank_Income'] = economy['Rank_Income']\n",
    "rank['Rank_Tuition'] = economy['Rank_Tuition']\n",
    "rank['Economy_rank'] = economy['Economy_rank']\n",
    "\n",
    "rank['Bar_Rank'] = tertiary['Bar_Rank']\n",
    "rank['Restaurant_Rank'] = tertiary['Restaurant_Rank']\n",
    "rank['Museums_Rank'] = tertiary['Museums_Rank']\n",
    "rank['Libraries_Rank'] = tertiary['Libraries_Rank']\n",
    "rank['Park_Rank'] = tertiary['Park_Rank']\n",
    "rank['TopRes_Rank'] = tertiary['TopRes_Rank']\n",
    "rank['Tertiary_Rank'] = tertiary['Tertiary_Rank']\n",
    "\n",
    "rank['Latitude'] = Lat\n",
    "rank['Longitude'] = Lon\n",
    "\n",
    "rank.to_csv(\"rank_file.csv\")"
   ]
  },
  {
   "cell_type": "code",
   "execution_count": 9,
   "metadata": {},
   "outputs": [
    {
     "data": {
      "text/plain": [
       "'file://C:\\\\Users\\\\zhang\\\\Documents\\\\cse583\\\\project\\\\uwseds-group-city-fynders\\\\Docs\\\\human-related-ranking-map.html'"
      ]
     },
     "execution_count": 9,
     "metadata": {},
     "output_type": "execute_result"
    }
   ],
   "source": [
    "import plotly\n",
    "import plotly.plotly as py\n",
    "\n",
    "\n",
    "# human related rank\n",
    "df = rank\n",
    "df = df.sort_values('Human_related_rank', ascending=1)\n",
    "df['reverse_rank'] = df['Human_related_rank'].rank(ascending=0)\n",
    "\n",
    "df['text'] = df['City'] + '<br># Final Rank ' + (df['Human_related_rank']).astype(str) +\\\n",
    "        '<br># Crime rank ' + (df['Crime_rank']).astype(str)+ '<br># Hospital rank ' +\\\n",
    "    (df['Hospital_rank']).astype(str)+'<br># Early education rank ' + (df['Early_education_rank']).astype(str)+\\\n",
    "    '<br># University education rank ' + (df['University_education_rank']).astype(str)\n",
    "\n",
    "\n",
    "\n",
    "limits = [(0,10),(10,20),(20,30),(30,40),(40,50)]\n",
    "colors = [\"rgb(0,116,217)\",\"rgb(255,65,54)\",\"rgb(133,20,75)\",\"rgb(255,133,27)\",\"lightgrey\"]\n",
    "cities = []\n",
    "\n",
    "\n",
    "for i in range(len(limits)):\n",
    "    lim = limits[i]\n",
    "    df_sub = df[lim[0]:lim[1]]\n",
    "    city = dict(\n",
    "        type = 'scattergeo',\n",
    "        locationmode = 'USA-states',\n",
    "        lon = df_sub['Longitude'],\n",
    "        lat = df_sub['Latitude'],\n",
    "        text = df_sub['text'],\n",
    "        marker = dict(\n",
    "            size = df_sub['reverse_rank']*15,\n",
    "            color = colors[i],\n",
    "            line = dict(width=0.5, color='rgb(40,40,40)'),\n",
    "            sizemode = 'area'\n",
    "        ),\n",
    "        name = '{0} - {1}'.format(lim[0],lim[1]) )\n",
    "    cities.append(city)\n",
    "\n",
    "    layout = dict(\n",
    "        title = 'The human related ranking of US big cities',\n",
    "        showlegend = True,\n",
    "        geo = dict(\n",
    "            scope='usa',\n",
    "            projection=dict( type='albers usa' ),\n",
    "            showland = True,\n",
    "            landcolor = 'rgb(217, 217, 217)',\n",
    "            subunitwidth=1,\n",
    "            countrywidth=1,\n",
    "            subunitcolor=\"rgb(255, 255, 255)\",\n",
    "            countrycolor=\"rgb(255, 255, 255)\"\n",
    "        ),\n",
    "    )\n",
    "\n",
    "fig = dict( data=cities, layout=layout )\n",
    "plotly.offline.plot( fig, validate=False, filename='human-related-ranking-map.html' )"
   ]
  },
  {
   "cell_type": "code",
   "execution_count": 10,
   "metadata": {},
   "outputs": [
    {
     "data": {
      "text/plain": [
       "'file://C:\\\\Users\\\\zhang\\\\Documents\\\\cse583\\\\project\\\\uwseds-group-city-fynders\\\\Docs\\\\natural-ranking-map.html'"
      ]
     },
     "execution_count": 10,
     "metadata": {},
     "output_type": "execute_result"
    }
   ],
   "source": [
    "# Natural rank\n",
    "df = rank\n",
    "df = df.sort_values('Natural_total_rank', ascending=1)\n",
    "df['reverse_rank'] = df['Natural_total_rank'].rank(ascending=0)\n",
    "\n",
    "df['text'] = df['City'] + '<br># Final Rank ' + (df['Natural_total_rank']).astype(str) +\\\n",
    "        '<br># Air Rank ' + (df['Air']).astype(str)+ '<br># Water_rank ' +\\\n",
    "    (df['Water']).astype(str)+'<br># Toxics rank ' + (df['Toxics']).astype(str)+\\\n",
    "    '<br># Hazardous rank ' + (df['Hazardous']).astype(str) + '<br># Green score rank ' + (df['Green_score']).astype(str)\n",
    "\n",
    "\n",
    "\n",
    "limits = [(0,10),(10,20),(20,30),(30,40),(40,50)]\n",
    "colors = [\"rgb(0,116,217)\",\"rgb(255,65,54)\",\"rgb(133,20,75)\",\"rgb(255,133,27)\",\"lightgrey\"]\n",
    "cities = []\n",
    "\n",
    "\n",
    "for i in range(len(limits)):\n",
    "    lim = limits[i]\n",
    "    df_sub = df[lim[0]:lim[1]]\n",
    "    city = dict(\n",
    "        type = 'scattergeo',\n",
    "        locationmode = 'USA-states',\n",
    "        lon = df_sub['Longitude'],\n",
    "        lat = df_sub['Latitude'],\n",
    "        text = df_sub['text'],\n",
    "        marker = dict(\n",
    "            size = df_sub['reverse_rank']*15,\n",
    "            color = colors[i],\n",
    "            line = dict(width=0.5, color='rgb(40,40,40)'),\n",
    "            sizemode = 'area'\n",
    "        ),\n",
    "        name = '{0} - {1}'.format(lim[0],lim[1]) )\n",
    "    cities.append(city)\n",
    "\n",
    "    layout = dict(\n",
    "        title = 'The natural ranking of US big cities',\n",
    "        showlegend = True,\n",
    "        geo = dict(\n",
    "            scope='usa',\n",
    "            projection=dict( type='albers usa' ),\n",
    "            showland = True,\n",
    "            landcolor = 'rgb(217, 217, 217)',\n",
    "            subunitwidth=1,\n",
    "            countrywidth=1,\n",
    "            subunitcolor=\"rgb(255, 255, 255)\",\n",
    "            countrycolor=\"rgb(255, 255, 255)\"\n",
    "        ),\n",
    "    )\n",
    "\n",
    "fig = dict( data=cities, layout=layout )\n",
    "plotly.offline.plot( fig, validate=False, filename='natural-ranking-map.html' )"
   ]
  },
  {
   "cell_type": "code",
   "execution_count": 11,
   "metadata": {},
   "outputs": [
    {
     "data": {
      "text/plain": [
       "'file://C:\\\\Users\\\\zhang\\\\Documents\\\\cse583\\\\project\\\\uwseds-group-city-fynders\\\\Docs\\\\economy-ranking-map.html'"
      ]
     },
     "execution_count": 11,
     "metadata": {},
     "output_type": "execute_result"
    }
   ],
   "source": [
    "#Economy rank\n",
    "df = rank\n",
    "df = df.sort_values('Economy_rank', ascending=1)\n",
    "df['reverse_rank'] = df['Economy_rank'].rank(ascending=0)\n",
    "\n",
    "df['text'] = df['City'] + '<br># Final Rank ' + (df['Economy_rank']).astype(str) +\\\n",
    "        '<br># Percent unemployment rank ' + (df['Rank_unemployment']).astype(str)+ '<br># Sale rate rank' +\\\n",
    "    (df['Rank_sale_rate']).astype(str)+'<br># Income rank ' + (df['Rank_Income']).astype(str)+\\\n",
    "    '<br># Tuition rank ' + (df['Rank_Tuition']).astype(str) \n",
    "\n",
    "\n",
    "\n",
    "limits = [(0,10),(10,20),(20,30),(30,40),(40,50)]\n",
    "colors = [\"rgb(0,116,217)\",\"rgb(255,65,54)\",\"rgb(133,20,75)\",\"rgb(255,133,27)\",\"lightgrey\"]\n",
    "cities = []\n",
    "\n",
    "\n",
    "for i in range(len(limits)):\n",
    "    lim = limits[i]\n",
    "    df_sub = df[lim[0]:lim[1]]\n",
    "    city = dict(\n",
    "        type = 'scattergeo',\n",
    "        locationmode = 'USA-states',\n",
    "        lon = df_sub['Longitude'],\n",
    "        lat = df_sub['Latitude'],\n",
    "        text = df_sub['text'],\n",
    "        marker = dict(\n",
    "            size = df_sub['reverse_rank']*15,\n",
    "            color = colors[i],\n",
    "            line = dict(width=0.5, color='rgb(40,40,40)'),\n",
    "            sizemode = 'area'\n",
    "        ),\n",
    "        name = '{0} - {1}'.format(lim[0],lim[1]) )\n",
    "    cities.append(city)\n",
    "\n",
    "    layout = dict(\n",
    "        title = 'The economy ranking of US big cities',\n",
    "        showlegend = True,\n",
    "        geo = dict(\n",
    "            scope='usa',\n",
    "            projection=dict( type='albers usa' ),\n",
    "            showland = True,\n",
    "            landcolor = 'rgb(217, 217, 217)',\n",
    "            subunitwidth=1,\n",
    "            countrywidth=1,\n",
    "            subunitcolor=\"rgb(255, 255, 255)\",\n",
    "            countrycolor=\"rgb(255, 255, 255)\"\n",
    "        ),\n",
    "    )\n",
    "\n",
    "fig = dict( data=cities, layout=layout )\n",
    "plotly.offline.plot( fig, validate=False, filename='economy-ranking-map.html' )"
   ]
  },
  {
   "cell_type": "code",
   "execution_count": 12,
   "metadata": {},
   "outputs": [
    {
     "data": {
      "text/plain": [
       "'file://C:\\\\Users\\\\zhang\\\\Documents\\\\cse583\\\\project\\\\uwseds-group-city-fynders\\\\Docs\\\\Tertiary-industry-ranking-map.html'"
      ]
     },
     "execution_count": 12,
     "metadata": {},
     "output_type": "execute_result"
    }
   ],
   "source": [
    "#Tertiary industry rank\n",
    "df = rank\n",
    "df = df.sort_values('Tertiary_Rank', ascending=1)\n",
    "df['reverse_rank'] = df['Tertiary_Rank'].rank(ascending=0)\n",
    "\n",
    "df['text'] = df['City'] + '<br># Final Rank ' + (df['Tertiary_Rank']).astype(str) +\\\n",
    "        '<br># Total bar rank' + (df['Bar_Rank']).astype(str)+ '<br># Total restaurant_Rank' +\\\n",
    "    (df['Restaurant_Rank']).astype(str) + '<br># Museums rank ' + (df['Museums_Rank']).astype(str)+\\\n",
    "    '<br># Libraries rank ' + (df['Libraries_Rank']).astype(str) + '<br># Park rank' +\\\n",
    "    (df['Park_Rank']).astype(str) + '<br># Top200 Restaurant rank ' + (df['TopRes_Rank']).astype(str)\n",
    "\n",
    "\n",
    "\n",
    "limits = [(0,10),(10,20),(20,30),(30,40),(40,50)]\n",
    "colors = [\"rgb(0,116,217)\",\"rgb(255,65,54)\",\"rgb(133,20,75)\",\"rgb(255,133,27)\",\"lightgrey\"]\n",
    "cities = []\n",
    "\n",
    "\n",
    "for i in range(len(limits)):\n",
    "    lim = limits[i]\n",
    "    df_sub = df[lim[0]:lim[1]]\n",
    "    city = dict(\n",
    "        type = 'scattergeo',\n",
    "        locationmode = 'USA-states',\n",
    "        lon = df_sub['Longitude'],\n",
    "        lat = df_sub['Latitude'],\n",
    "        text = df_sub['text'],\n",
    "        marker = dict(\n",
    "            size = df_sub['reverse_rank']*15,\n",
    "            color = colors[i],\n",
    "            line = dict(width=0.5, color='rgb(40,40,40)'),\n",
    "            sizemode = 'area'\n",
    "        ),\n",
    "        name = '{0} - {1}'.format(lim[0],lim[1]) )\n",
    "    cities.append(city)\n",
    "\n",
    "    layout = dict(\n",
    "        title = 'The tertiary industry ranking of US big cities',\n",
    "        showlegend = True,\n",
    "        geo = dict(\n",
    "            scope='usa',\n",
    "            projection=dict( type='albers usa' ),\n",
    "            showland = True,\n",
    "            landcolor = 'rgb(217, 217, 217)',\n",
    "            subunitwidth=1,\n",
    "            countrywidth=1,\n",
    "            subunitcolor=\"rgb(255, 255, 255)\",\n",
    "            countrycolor=\"rgb(255, 255, 255)\"\n",
    "        ),\n",
    "    )\n",
    "\n",
    "fig = dict( data=cities, layout=layout )\n",
    "plotly.offline.plot( fig, validate=False, filename='Tertiary-industry-ranking-map.html' )"
   ]
  },
  {
   "cell_type": "code",
   "execution_count": 13,
   "metadata": {},
   "outputs": [
    {
     "data": {
      "text/plain": [
       "'file://C:\\\\Users\\\\zhang\\\\Documents\\\\cse583\\\\project\\\\uwseds-group-city-fynders\\\\Docs\\\\Total-ranking-map.html'"
      ]
     },
     "execution_count": 13,
     "metadata": {},
     "output_type": "execute_result"
    }
   ],
   "source": [
    "#Total general rank\n",
    "df = rank\n",
    "df['Final rank'] = df['Human_related_rank'] + df['Natural_total_rank'] + df['Economy_rank'] + df['Tertiary_Rank']\n",
    "df['Final rank'] = df['Final rank'].rank(ascending = 1)\n",
    "df = df.sort_values('Final rank', ascending=1)\n",
    "df['reverse_rank'] = df['Final rank'].rank(ascending=0)\n",
    "\n",
    "df['text'] = df['City'] + '<br># Final Rank ' + (df['Final rank']).astype(str) +\\\n",
    "        '<br># Human related rank ' + (df['Human_related_rank']).astype(str)+ '<br># Natural total rank ' +\\\n",
    "    (df['Natural_total_rank']).astype(str) + '<br># Economy rank ' + (df['Economy_rank']).astype(str)+\\\n",
    "    '<br># Tertiary rank ' + (df['Tertiary_Rank']).astype(str)\n",
    "\n",
    "\n",
    "limits = [(0,10),(10,20),(20,30),(30,40),(40,50)]\n",
    "colors = [\"rgb(0,116,217)\",\"rgb(255,65,54)\",\"rgb(133,20,75)\",\"rgb(255,133,27)\",\"lightgrey\"]\n",
    "cities = []\n",
    "\n",
    "\n",
    "for i in range(len(limits)):\n",
    "    lim = limits[i]\n",
    "    df_sub = df[lim[0]:lim[1]]\n",
    "    city = dict(\n",
    "        type = 'scattergeo',\n",
    "        locationmode = 'USA-states',\n",
    "        lon = df_sub['Longitude'],\n",
    "        lat = df_sub['Latitude'],\n",
    "        text = df_sub['text'],\n",
    "        marker = dict(\n",
    "            size = df_sub['reverse_rank']*15,\n",
    "            color = colors[i],\n",
    "            line = dict(width=0.5, color='rgb(40,40,40)'),\n",
    "            sizemode = 'area'\n",
    "        ),\n",
    "        name = '{0} - {1}'.format(lim[0],lim[1]) )\n",
    "    cities.append(city)\n",
    "\n",
    "    layout = dict(\n",
    "        title = 'The general ranking of US big cities',\n",
    "        showlegend = True,\n",
    "        geo = dict(\n",
    "            scope='usa',\n",
    "            projection=dict( type='albers usa' ),\n",
    "            showland = True,\n",
    "            landcolor = 'rgb(217, 217, 217)',\n",
    "            subunitwidth=1,\n",
    "            countrywidth=1,\n",
    "            subunitcolor=\"rgb(255, 255, 255)\",\n",
    "            countrycolor=\"rgb(255, 255, 255)\"\n",
    "        ),\n",
    "    )\n",
    "\n",
    "fig = dict( data=cities, layout=layout )\n",
    "plotly.offline.plot( fig, validate=False, filename='Total-ranking-map.html' )"
   ]
  },
  {
   "cell_type": "code",
   "execution_count": null,
   "metadata": {
    "collapsed": true
   },
   "outputs": [],
   "source": []
  }
 ],
 "metadata": {
  "kernelspec": {
   "display_name": "Python 3",
   "language": "python",
   "name": "python3"
  },
  "language_info": {
   "codemirror_mode": {
    "name": "ipython",
    "version": 3
   },
   "file_extension": ".py",
   "mimetype": "text/x-python",
   "name": "python",
   "nbconvert_exporter": "python",
   "pygments_lexer": "ipython3",
   "version": "3.6.2"
  }
 },
 "nbformat": 4,
 "nbformat_minor": 2
}
