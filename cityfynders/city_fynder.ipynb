{
 "cells": [
  {
   "cell_type": "markdown",
   "metadata": {},
   "source": [
    "# Which city would like to live?"
   ]
  },
  {
   "cell_type": "markdown",
   "metadata": {},
   "source": [
    "***Created by City Fynders***"
   ]
  },
  {
   "cell_type": "markdown",
   "metadata": {},
   "source": [
    "## 1. Import data"
   ]
  },
  {
   "cell_type": "code",
   "execution_count": 1,
   "metadata": {
    "collapsed": true
   },
   "outputs": [],
   "source": [
    "import pandas as pd\n",
    "import numpy as np\n",
    "\n",
    "import data_processing as dp"
   ]
  },
  {
   "cell_type": "code",
   "execution_count": 2,
   "metadata": {
    "collapsed": true
   },
   "outputs": [],
   "source": [
    "(natural, human, economy, tertiary) = dp.read_data()"
   ]
  },
  {
   "cell_type": "markdown",
   "metadata": {},
   "source": [
    "## 2. Add ranks in the DataFrame"
   ]
  },
  {
   "cell_type": "markdown",
   "metadata": {},
   "source": [
    "Example for getting ranks"
   ]
  },
  {
   "cell_type": "code",
   "execution_count": 3,
   "metadata": {
    "collapsed": true
   },
   "outputs": [],
   "source": [
    "#natural\n",
    "\n",
    "natural['Air'] = natural['Air'].rank(ascending=0)\n",
    "natural['Water_quality'] = natural['Water_quality'].rank(ascending=0)\n",
    "natural['Toxics'] = natural['Toxics'].rank(ascending=0)\n",
    "natural['Hazardous'] = natural['Hazardous'].rank(ascending=0)\n",
    "natural['Green_score_rank'] = natural['Green_score'].rank(ascending=1)\n",
    "natural['Green_score_rank'].fillna(natural['Green_score_rank'].max()+1, inplace=True)\n",
    "natural['Sanitation'].fillna(natural['Sanitation'].max()+1, inplace=True)\n",
    "\n",
    "natural['Natural_total_score'] = (natural['Air'] + natural['Water_quality'] + natural['Toxics'] \n",
    "                                  + natural['Hazardous'] + natural['Green_score_rank'])\n",
    "natural['Natural_total_rank'] = natural['Natural_total_score'].rank(ascending=1)"
   ]
  },
  {
   "cell_type": "code",
   "execution_count": 4,
   "metadata": {
    "collapsed": true
   },
   "outputs": [],
   "source": [
    "(natural, human, economy, tertiary) = dp.data_rank(natural, human, economy, tertiary)"
   ]
  },
  {
   "cell_type": "markdown",
   "metadata": {},
   "source": [
    "## 3. Get location information "
   ]
  },
  {
   "cell_type": "code",
   "execution_count": 5,
   "metadata": {
    "collapsed": true
   },
   "outputs": [],
   "source": [
    "import geopy as gy\n",
    "from geopy.geocoders import Nominatim\n",
    "\n",
    "def find_loc(dataframe):\n",
    "    geolocator = Nominatim()\n",
    "    lat = []\n",
    "    lon = []\n",
    "    for index, row in dataframe.iterrows():\n",
    "        loc = geolocator.geocode(row['City'] + ' ' + row['State'] + ' United States')\n",
    "        lat.append(loc.latitude)\n",
    "        lon.append(loc.longitude)\n",
    "    return lat, lon\n",
    "\n",
    "(Lat, Lon) = find_loc(human)"
   ]
  },
  {
   "cell_type": "markdown",
   "metadata": {},
   "source": [
    "## 4. Create a rank DataFrame and save as `csv` file "
   ]
  },
  {
   "cell_type": "code",
   "execution_count": 6,
   "metadata": {
    "collapsed": true
   },
   "outputs": [],
   "source": [
    "rank = dp.create_rank(natural, human, economy, tertiary, Lat, Lon)"
   ]
  },
  {
   "cell_type": "markdown",
   "metadata": {},
   "source": [
    "### 5. Plot using `plotly` package"
   ]
  },
  {
   "cell_type": "code",
   "execution_count": 7,
   "metadata": {},
   "outputs": [
    {
     "data": {
      "text/plain": [
       "'file:///Users/han/Google Drive/CSE583/Project/uwseds-group-city-fynders/cityfynders/general-ranking-map.html'"
      ]
     },
     "execution_count": 7,
     "metadata": {},
     "output_type": "execute_result"
    }
   ],
   "source": [
    "from plotly_usmap import usmap\n",
    "\n",
    "usmap(rank)"
   ]
  },
  {
   "cell_type": "code",
   "execution_count": null,
   "metadata": {},
   "outputs": [],
   "source": [
    "usmap(rank, 'natural')"
   ]
  },
  {
   "cell_type": "code",
   "execution_count": null,
   "metadata": {
    "collapsed": true
   },
   "outputs": [],
   "source": [
    "import plotly\n",
    "import plotly.plotly as py\n",
    "\n",
    "\n",
    "# human related rank\n",
    "df = rank\n",
    "df = df.sort_values('Human_related_rank', ascending=1)\n",
    "df['reverse_rank'] = df['Human_related_rank'].rank(ascending=0)\n",
    "\n",
    "df['text'] = df['City'] + '<br># Final Rank ' + (df['Human_related_rank']).astype(str) +\\\n",
    "        '<br># Crime rank ' + (df['Crime_rank']).astype(str)+ '<br># Hospital rank ' +\\\n",
    "    (df['Hospital_rank']).astype(str)+'<br># Early education rank ' + (df['Early_education_rank']).astype(str)+\\\n",
    "    '<br># University education rank ' + (df['University_education_rank']).astype(str)\n",
    "\n",
    "\n",
    "\n",
    "limits = [(0,10),(10,20),(20,30),(30,40),(40,50)]\n",
    "colors = [\"rgb(0,116,217)\",\"rgb(255,65,54)\",\"rgb(133,20,75)\",\"rgb(255,133,27)\",\"lightgrey\"]\n",
    "cities = []\n",
    "\n",
    "\n",
    "for i in range(len(limits)):\n",
    "    lim = limits[i]\n",
    "    df_sub = df[lim[0]:lim[1]]\n",
    "    city = dict(\n",
    "        type = 'scattergeo',\n",
    "        locationmode = 'USA-states',\n",
    "        lon = df_sub['Longitude'],\n",
    "        lat = df_sub['Latitude'],\n",
    "        text = df_sub['text'],\n",
    "        marker = dict(\n",
    "            size = df_sub['reverse_rank']*15,\n",
    "            color = colors[i],\n",
    "            line = dict(width=0.5, color='rgb(40,40,40)'),\n",
    "            sizemode = 'area'\n",
    "        ),\n",
    "        name = '{0} - {1}'.format(lim[0],lim[1]) )\n",
    "    cities.append(city)\n",
    "\n",
    "    layout = dict(\n",
    "        title = 'The human related ranking of US big cities',\n",
    "        showlegend = True,\n",
    "        geo = dict(\n",
    "            scope='usa',\n",
    "            projection=dict( type='albers usa' ),\n",
    "            showland = True,\n",
    "            landcolor = 'rgb(217, 217, 217)',\n",
    "            subunitwidth=1,\n",
    "            countrywidth=1,\n",
    "            subunitcolor=\"rgb(255, 255, 255)\",\n",
    "            countrycolor=\"rgb(255, 255, 255)\"\n",
    "        ),\n",
    "    )\n",
    "\n",
    "fig = dict( data=cities, layout=layout )\n",
    "plotly.offline.plot( fig, validate=False, filename='human-related-ranking-map.html' )"
   ]
  }
 ],
 "metadata": {
  "kernelspec": {
   "display_name": "Python 3",
   "language": "python",
   "name": "python3"
  },
  "language_info": {
   "codemirror_mode": {
    "name": "ipython",
    "version": 3
   },
   "file_extension": ".py",
   "mimetype": "text/x-python",
   "name": "python",
   "nbconvert_exporter": "python",
   "pygments_lexer": "ipython3",
   "version": "3.6.2"
  }
 },
 "nbformat": 4,
 "nbformat_minor": 2
}
