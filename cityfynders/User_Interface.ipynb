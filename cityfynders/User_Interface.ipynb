{
 "cells": [
  {
   "cell_type": "markdown",
   "metadata": {},
   "source": [
    "# User Interface "
   ]
  },
  {
   "cell_type": "code",
   "execution_count": 1,
   "metadata": {},
   "outputs": [],
   "source": [
    "import dash\n",
    "import dash_core_components as dcc\n",
    "import dash_html_components as html\n",
    "import plotly.graph_objs as go\n",
    "import pandas as pd\n",
    "import plotly\n",
    "from plotly.offline import download_plotlyjs, init_notebook_mode, plot, iplot\n",
    "from plotly_usmap import usmap\n",
    "from plotly_usmap import usmap_choose\n",
    "from plotly_usmap import newdf"
   ]
  },
  {
   "cell_type": "markdown",
   "metadata": {},
   "source": [
    "## 1. Set up options for Dropdowns and Slider"
   ]
  },
  {
   "cell_type": "code",
   "execution_count": 2,
   "metadata": {
    "collapsed": true
   },
   "outputs": [],
   "source": [
    "rank = pd.read_csv('../data/rank_file.csv')\n",
    "\n",
    "# Create a list of indicators \n",
    "available = list(rank.columns.values)\n",
    "for i in ['Unnamed: 0','City','State','Population','Natural_total_rank', 'Human_related_rank', \n",
    "          'Economy_rank', 'Tertiary_Rank', 'Latitude', 'Longitude']:\n",
    "    available.remove(i)\n",
    "    \n",
    "# Create a list of labels for dropdown\n",
    "labels = ['Air Quality','Water Quality','Fewer Toxics',\n",
    "          'Fewer Hazardous Particles','Green Coverage',\n",
    "          'Fewer Crimes','More Hospitals','Early Education Options',\n",
    "          'University Options','Employment Rate','Sales Revenue',\n",
    "          'Income','Tuition Affordability','Bars','Restaurants',\n",
    "          'Museums','Libraries','Parks','Top Restaurants']\n",
    "\n",
    "# Put available and labels in a two-dimensional list\n",
    "pairs = [available,labels]"
   ]
  },
  {
   "cell_type": "markdown",
   "metadata": {},
   "source": [
    "## 2. Set up layout for User Interface"
   ]
  },
  {
   "cell_type": "code",
   "execution_count": 3,
   "metadata": {
    "collapsed": true
   },
   "outputs": [],
   "source": [
    "app = dash.Dash()\n",
    "# Get DataFrame value\n",
    "import UI_setup\n",
    "app.layout = UI_setup.layout_setup(pairs)"
   ]
  },
  {
   "cell_type": "markdown",
   "metadata": {},
   "source": [
    "## 3.Set up for default graph"
   ]
  },
  {
   "cell_type": "code",
   "execution_count": 4,
   "metadata": {
    "collapsed": true
   },
   "outputs": [],
   "source": [
    "@app.callback(\n",
    "    dash.dependencies.Output('Total-graphic', 'figure'),\n",
    "    [dash.dependencies.Input('Total', 'n_clicks')]\n",
    ")\n",
    "def total_graph(Total):\n",
    "    if(Total is None):\n",
    "        return\n",
    "    return {\n",
    "           usmap(rank)    \n",
    "        }\n",
    "@app.callback(\n",
    "    dash.dependencies.Output('Human-graphic', 'figure'),\n",
    "    [dash.dependencies.Input('Hrank', 'n_clicks')]\n",
    ")\n",
    "def human_graph(Hrank):\n",
    "    if(Hrank is None):\n",
    "        return\n",
    "    return {\n",
    "           usmap(rank, 'human')    \n",
    "        }\n",
    "@app.callback(\n",
    "    dash.dependencies.Output('Natural-graphic', 'figure'),\n",
    "    [dash.dependencies.Input('Nrank', 'n_clicks')]\n",
    ")\n",
    "def environment_graph(Nrank):\n",
    "    if(Nrank is None):\n",
    "        return\n",
    "    return {\n",
    "           usmap(rank, 'natural')    \n",
    "        }\n",
    "@app.callback(\n",
    "    dash.dependencies.Output('Economic-graphic', 'figure'),\n",
    "    [dash.dependencies.Input('Erank', 'n_clicks')]\n",
    ")\n",
    "def economy_graph(Erank):\n",
    "    if(Erank is None):\n",
    "        return\n",
    "    return {\n",
    "           usmap(rank, 'economy')    \n",
    "        }\n",
    "@app.callback(\n",
    "    dash.dependencies.Output('Tertiary-graphic', 'figure'),\n",
    "    [dash.dependencies.Input('Trank', 'n_clicks')]\n",
    ")\n",
    "def entertainment_graph(Trank):\n",
    "    if(Trank is None):\n",
    "        return\n",
    "    return {\n",
    "           usmap(rank, 'tertiary')    \n",
    "        }"
   ]
  },
  {
   "cell_type": "markdown",
   "metadata": {},
   "source": [
    "## 4.Set up for user call"
   ]
  },
  {
   "cell_type": "code",
   "execution_count": 5,
   "metadata": {
    "collapsed": true
   },
   "outputs": [],
   "source": [
    "@app.callback(\n",
    "    dash.dependencies.Output('User-graphic', 'figure'),\n",
    "    [dash.dependencies.Input('Search', 'n_clicks')],\n",
    "    [dash.dependencies.State('First-care', 'value'),\n",
    "     dash.dependencies.State('Second-care', 'value'),\n",
    "     dash.dependencies.State('Third-care', 'value'),\n",
    "     dash.dependencies.State('Fourth-care', 'value'),\n",
    "     dash.dependencies.State('Fifth-care', 'value'),\n",
    "    ]\n",
    ")\n",
    "    \n",
    "def user_DIY_graph(Search, First_care, Second_care, Third_care, Fourth_care, Fifth_care):\n",
    "    df = newdf(rank, First_care, Second_care, Third_care, Fourth_care, Fifth_care)\n",
    "    \n",
    "    return {\n",
    "        usmap_choose(df)\n",
    "    }\n"
   ]
  },
  {
   "cell_type": "markdown",
   "metadata": {},
   "source": [
    "## 5. Running"
   ]
  },
  {
   "cell_type": "code",
   "execution_count": null,
   "metadata": {},
   "outputs": [
    {
     "name": "stderr",
     "output_type": "stream",
     "text": [
      " * Running on http://127.0.0.1:8050/ (Press CTRL+C to quit)\n",
      "127.0.0.1 - - [13/Dec/2017 19:23:01] \"GET / HTTP/1.1\" 200 -\n",
      "127.0.0.1 - - [13/Dec/2017 19:23:02] \"GET /_dash-layout HTTP/1.1\" 200 -\n",
      "127.0.0.1 - - [13/Dec/2017 19:23:02] \"GET /_dash-dependencies HTTP/1.1\" 200 -\n",
      "[2017-12-13 19:23:02,606] ERROR in app: Exception on /_dash-update-component [POST]\n",
      "Traceback (most recent call last):\n",
      "  File \"C:\\Users\\zhang\\Documents\\anaconda\\lib\\site-packages\\flask\\app.py\", line 1982, in wsgi_app\n",
      "    response = self.full_dispatch_request()\n",
      "  File \"C:\\Users\\zhang\\Documents\\anaconda\\lib\\site-packages\\flask\\app.py\", line 1614, in full_dispatch_request\n",
      "    rv = self.handle_user_exception(e)\n",
      "  File \"C:\\Users\\zhang\\Documents\\anaconda\\lib\\site-packages\\flask\\app.py\", line 1517, in handle_user_exception\n",
      "    reraise(exc_type, exc_value, tb)\n",
      "  File \"C:\\Users\\zhang\\Documents\\anaconda\\lib\\site-packages\\flask\\_compat.py\", line 33, in reraise\n",
      "    raise value\n",
      "  File \"C:\\Users\\zhang\\Documents\\anaconda\\lib\\site-packages\\flask\\app.py\", line 1612, in full_dispatch_request\n",
      "    rv = self.dispatch_request()\n",
      "  File \"C:\\Users\\zhang\\Documents\\anaconda\\lib\\site-packages\\flask\\app.py\", line 1598, in dispatch_request\n",
      "    return self.view_functions[rule.endpoint](**req.view_args)\n",
      "  File \"C:\\Users\\zhang\\Documents\\anaconda\\lib\\site-packages\\dash\\dash.py\", line 541, in dispatch\n",
      "    return self.callback_map[target_id]['callback'](*args)\n",
      "  File \"C:\\Users\\zhang\\Documents\\anaconda\\lib\\site-packages\\dash\\dash.py\", line 498, in add_context\n",
      "    output_value = func(*args, **kwargs)\n",
      "  File \"<ipython-input-5-01f3b290d2c8>\", line 13, in user_DIY_graph\n",
      "    df = newdf(rank, First_care, Second_care, Third_care, Fourth_care, Fifth_care)\n",
      "  File \"C:\\Users\\zhang\\Documents\\cse583\\project\\uwseds-group-city-fynders\\cityfynders\\plotly_usmap.py\", line 154, in newdf\n",
      "    df['First'] = rank[First_care]\n",
      "  File \"C:\\Users\\zhang\\Documents\\anaconda\\lib\\site-packages\\pandas\\core\\frame.py\", line 1964, in __getitem__\n",
      "    return self._getitem_column(key)\n",
      "  File \"C:\\Users\\zhang\\Documents\\anaconda\\lib\\site-packages\\pandas\\core\\frame.py\", line 1971, in _getitem_column\n",
      "    return self._get_item_cache(key)\n",
      "  File \"C:\\Users\\zhang\\Documents\\anaconda\\lib\\site-packages\\pandas\\core\\generic.py\", line 1645, in _get_item_cache\n",
      "    values = self._data.get(item)\n",
      "  File \"C:\\Users\\zhang\\Documents\\anaconda\\lib\\site-packages\\pandas\\core\\internals.py\", line 3599, in get\n",
      "    raise ValueError(\"cannot label index with a null key\")\n",
      "ValueError: cannot label index with a null key\n",
      "127.0.0.1 - - [13/Dec/2017 19:23:02] \"POST /_dash-update-component HTTP/1.1\" 500 -\n",
      "127.0.0.1 - - [13/Dec/2017 19:23:02] \"POST /_dash-update-component HTTP/1.1\" 200 -\n",
      "127.0.0.1 - - [13/Dec/2017 19:23:02] \"POST /_dash-update-component HTTP/1.1\" 200 -\n",
      "127.0.0.1 - - [13/Dec/2017 19:23:02] \"POST /_dash-update-component HTTP/1.1\" 200 -\n",
      "127.0.0.1 - - [13/Dec/2017 19:23:02] \"POST /_dash-update-component HTTP/1.1\" 200 -\n",
      "127.0.0.1 - - [13/Dec/2017 19:23:02] \"POST /_dash-update-component HTTP/1.1\" 200 -\n",
      "127.0.0.1 - - [13/Dec/2017 19:23:02] \"GET /favicon.ico HTTP/1.1\" 200 -\n",
      "[2017-12-13 19:23:04,349] ERROR in app: Exception on /_dash-update-component [POST]\n",
      "Traceback (most recent call last):\n",
      "  File \"C:\\Users\\zhang\\Documents\\anaconda\\lib\\site-packages\\flask\\app.py\", line 1982, in wsgi_app\n",
      "    response = self.full_dispatch_request()\n",
      "  File \"C:\\Users\\zhang\\Documents\\anaconda\\lib\\site-packages\\flask\\app.py\", line 1614, in full_dispatch_request\n",
      "    rv = self.handle_user_exception(e)\n",
      "  File \"C:\\Users\\zhang\\Documents\\anaconda\\lib\\site-packages\\flask\\app.py\", line 1517, in handle_user_exception\n",
      "    reraise(exc_type, exc_value, tb)\n",
      "  File \"C:\\Users\\zhang\\Documents\\anaconda\\lib\\site-packages\\flask\\_compat.py\", line 33, in reraise\n",
      "    raise value\n",
      "  File \"C:\\Users\\zhang\\Documents\\anaconda\\lib\\site-packages\\flask\\app.py\", line 1612, in full_dispatch_request\n",
      "    rv = self.dispatch_request()\n",
      "  File \"C:\\Users\\zhang\\Documents\\anaconda\\lib\\site-packages\\flask\\app.py\", line 1598, in dispatch_request\n",
      "    return self.view_functions[rule.endpoint](**req.view_args)\n",
      "  File \"C:\\Users\\zhang\\Documents\\anaconda\\lib\\site-packages\\dash\\dash.py\", line 541, in dispatch\n",
      "    return self.callback_map[target_id]['callback'](*args)\n",
      "  File \"C:\\Users\\zhang\\Documents\\anaconda\\lib\\site-packages\\dash\\dash.py\", line 509, in add_context\n",
      "    cls=plotly.utils.PlotlyJSONEncoder),\n",
      "  File \"C:\\Users\\zhang\\Documents\\anaconda\\lib\\json\\__init__.py\", line 238, in dumps\n",
      "    **kw).encode(obj)\n",
      "  File \"C:\\Users\\zhang\\Documents\\anaconda\\lib\\site-packages\\plotly\\utils.py\", line 136, in encode\n",
      "    encoded_o = super(PlotlyJSONEncoder, self).encode(o)\n",
      "  File \"C:\\Users\\zhang\\Documents\\anaconda\\lib\\json\\encoder.py\", line 199, in encode\n",
      "    chunks = self.iterencode(o, _one_shot=True)\n",
      "  File \"C:\\Users\\zhang\\Documents\\anaconda\\lib\\json\\encoder.py\", line 257, in iterencode\n",
      "    return _iterencode(o, 0)\n",
      "  File \"C:\\Users\\zhang\\Documents\\anaconda\\lib\\site-packages\\plotly\\utils.py\", line 204, in default\n",
      "    return _json.JSONEncoder.default(self, obj)\n",
      "  File \"C:\\Users\\zhang\\Documents\\anaconda\\lib\\json\\encoder.py\", line 180, in default\n",
      "    o.__class__.__name__)\n",
      "TypeError: Object of type 'set' is not JSON serializable\n",
      "127.0.0.1 - - [13/Dec/2017 19:23:04] \"POST /_dash-update-component HTTP/1.1\" 500 -\n",
      "[2017-12-13 19:23:06,333] ERROR in app: Exception on /_dash-update-component [POST]\n",
      "Traceback (most recent call last):\n",
      "  File \"C:\\Users\\zhang\\Documents\\anaconda\\lib\\site-packages\\flask\\app.py\", line 1982, in wsgi_app\n",
      "    response = self.full_dispatch_request()\n",
      "  File \"C:\\Users\\zhang\\Documents\\anaconda\\lib\\site-packages\\flask\\app.py\", line 1614, in full_dispatch_request\n",
      "    rv = self.handle_user_exception(e)\n",
      "  File \"C:\\Users\\zhang\\Documents\\anaconda\\lib\\site-packages\\flask\\app.py\", line 1517, in handle_user_exception\n",
      "    reraise(exc_type, exc_value, tb)\n",
      "  File \"C:\\Users\\zhang\\Documents\\anaconda\\lib\\site-packages\\flask\\_compat.py\", line 33, in reraise\n",
      "    raise value\n",
      "  File \"C:\\Users\\zhang\\Documents\\anaconda\\lib\\site-packages\\flask\\app.py\", line 1612, in full_dispatch_request\n",
      "    rv = self.dispatch_request()\n",
      "  File \"C:\\Users\\zhang\\Documents\\anaconda\\lib\\site-packages\\flask\\app.py\", line 1598, in dispatch_request\n",
      "    return self.view_functions[rule.endpoint](**req.view_args)\n",
      "  File \"C:\\Users\\zhang\\Documents\\anaconda\\lib\\site-packages\\dash\\dash.py\", line 541, in dispatch\n",
      "    return self.callback_map[target_id]['callback'](*args)\n",
      "  File \"C:\\Users\\zhang\\Documents\\anaconda\\lib\\site-packages\\dash\\dash.py\", line 509, in add_context\n",
      "    cls=plotly.utils.PlotlyJSONEncoder),\n",
      "  File \"C:\\Users\\zhang\\Documents\\anaconda\\lib\\json\\__init__.py\", line 238, in dumps\n",
      "    **kw).encode(obj)\n",
      "  File \"C:\\Users\\zhang\\Documents\\anaconda\\lib\\site-packages\\plotly\\utils.py\", line 136, in encode\n",
      "    encoded_o = super(PlotlyJSONEncoder, self).encode(o)\n",
      "  File \"C:\\Users\\zhang\\Documents\\anaconda\\lib\\json\\encoder.py\", line 199, in encode\n",
      "    chunks = self.iterencode(o, _one_shot=True)\n",
      "  File \"C:\\Users\\zhang\\Documents\\anaconda\\lib\\json\\encoder.py\", line 257, in iterencode\n",
      "    return _iterencode(o, 0)\n",
      "  File \"C:\\Users\\zhang\\Documents\\anaconda\\lib\\site-packages\\plotly\\utils.py\", line 204, in default\n",
      "    return _json.JSONEncoder.default(self, obj)\n",
      "  File \"C:\\Users\\zhang\\Documents\\anaconda\\lib\\json\\encoder.py\", line 180, in default\n",
      "    o.__class__.__name__)\n",
      "TypeError: Object of type 'set' is not JSON serializable\n",
      "127.0.0.1 - - [13/Dec/2017 19:23:06] \"POST /_dash-update-component HTTP/1.1\" 500 -\n",
      "[2017-12-13 19:23:07,721] ERROR in app: Exception on /_dash-update-component [POST]\n",
      "Traceback (most recent call last):\n",
      "  File \"C:\\Users\\zhang\\Documents\\anaconda\\lib\\site-packages\\flask\\app.py\", line 1982, in wsgi_app\n",
      "    response = self.full_dispatch_request()\n",
      "  File \"C:\\Users\\zhang\\Documents\\anaconda\\lib\\site-packages\\flask\\app.py\", line 1614, in full_dispatch_request\n",
      "    rv = self.handle_user_exception(e)\n",
      "  File \"C:\\Users\\zhang\\Documents\\anaconda\\lib\\site-packages\\flask\\app.py\", line 1517, in handle_user_exception\n",
      "    reraise(exc_type, exc_value, tb)\n",
      "  File \"C:\\Users\\zhang\\Documents\\anaconda\\lib\\site-packages\\flask\\_compat.py\", line 33, in reraise\n",
      "    raise value\n",
      "  File \"C:\\Users\\zhang\\Documents\\anaconda\\lib\\site-packages\\flask\\app.py\", line 1612, in full_dispatch_request\n",
      "    rv = self.dispatch_request()\n",
      "  File \"C:\\Users\\zhang\\Documents\\anaconda\\lib\\site-packages\\flask\\app.py\", line 1598, in dispatch_request\n",
      "    return self.view_functions[rule.endpoint](**req.view_args)\n",
      "  File \"C:\\Users\\zhang\\Documents\\anaconda\\lib\\site-packages\\dash\\dash.py\", line 541, in dispatch\n",
      "    return self.callback_map[target_id]['callback'](*args)\n",
      "  File \"C:\\Users\\zhang\\Documents\\anaconda\\lib\\site-packages\\dash\\dash.py\", line 509, in add_context\n",
      "    cls=plotly.utils.PlotlyJSONEncoder),\n",
      "  File \"C:\\Users\\zhang\\Documents\\anaconda\\lib\\json\\__init__.py\", line 238, in dumps\n",
      "    **kw).encode(obj)\n",
      "  File \"C:\\Users\\zhang\\Documents\\anaconda\\lib\\site-packages\\plotly\\utils.py\", line 136, in encode\n",
      "    encoded_o = super(PlotlyJSONEncoder, self).encode(o)\n",
      "  File \"C:\\Users\\zhang\\Documents\\anaconda\\lib\\json\\encoder.py\", line 199, in encode\n",
      "    chunks = self.iterencode(o, _one_shot=True)\n",
      "  File \"C:\\Users\\zhang\\Documents\\anaconda\\lib\\json\\encoder.py\", line 257, in iterencode\n",
      "    return _iterencode(o, 0)\n",
      "  File \"C:\\Users\\zhang\\Documents\\anaconda\\lib\\site-packages\\plotly\\utils.py\", line 204, in default\n",
      "    return _json.JSONEncoder.default(self, obj)\n",
      "  File \"C:\\Users\\zhang\\Documents\\anaconda\\lib\\json\\encoder.py\", line 180, in default\n",
      "    o.__class__.__name__)\n",
      "TypeError: Object of type 'set' is not JSON serializable\n"
     ]
    },
    {
     "name": "stderr",
     "output_type": "stream",
     "text": [
      "127.0.0.1 - - [13/Dec/2017 19:23:07] \"POST /_dash-update-component HTTP/1.1\" 500 -\n"
     ]
    }
   ],
   "source": [
    "app.run_server()"
   ]
  },
  {
   "cell_type": "code",
   "execution_count": null,
   "metadata": {
    "collapsed": true
   },
   "outputs": [],
   "source": []
  },
  {
   "cell_type": "code",
   "execution_count": null,
   "metadata": {
    "collapsed": true
   },
   "outputs": [],
   "source": []
  }
 ],
 "metadata": {
  "kernelspec": {
   "display_name": "Python 3",
   "language": "python",
   "name": "python3"
  },
  "language_info": {
   "codemirror_mode": {
    "name": "ipython",
    "version": 3
   },
   "file_extension": ".py",
   "mimetype": "text/x-python",
   "name": "python",
   "nbconvert_exporter": "python",
   "pygments_lexer": "ipython3",
   "version": "3.6.2"
  }
 },
 "nbformat": 4,
 "nbformat_minor": 2
}
