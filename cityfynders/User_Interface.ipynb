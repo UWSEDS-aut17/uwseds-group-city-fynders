{
 "cells": [
  {
   "cell_type": "markdown",
   "metadata": {},
   "source": [
    "# User Interface "
   ]
  },
  {
   "cell_type": "code",
   "execution_count": 1,
   "metadata": {
    "collapsed": true
   },
   "outputs": [],
   "source": [
    "import dash\n",
    "import dash_core_components as dcc\n",
    "import dash_html_components as html\n",
    "import plotly.graph_objs as go\n",
    "import pandas as pd\n",
    "import plotly\n",
    "from plotly.offline import download_plotlyjs, init_notebook_mode, plot, iplot\n",
    "from plotly_usmap import usmap"
   ]
  },
  {
   "cell_type": "markdown",
   "metadata": {},
   "source": [
    "## 1. Set up options for Dropdowns and Slider"
   ]
  },
  {
   "cell_type": "code",
   "execution_count": 2,
   "metadata": {
    "collapsed": true
   },
   "outputs": [],
   "source": [
    "rank = pd.read_csv('../data/rank_file.csv')\n",
    "\n",
    "# Create a list of indicators \n",
    "available = list(rank.columns.values)\n",
    "for i in ['Unnamed: 0','City','State','Population','Natural_total_rank', 'Human_related_rank', \n",
    "          'Economy_rank', 'Tertiary_Rank', 'Latitude', 'Longitude']:\n",
    "    available.remove(i)\n",
    "    \n",
    "# Create a list of labels for dropdown\n",
    "labels = ['Fewer Crimes','More Hospitals','Early Education Options',\n",
    "          'University Options','Air Quality','Water Quality',\n",
    "           'Fewer Toxics','Fewer Hazardous Particles','Green Coverage',\n",
    "           'Employment Rate','Sales Revenue','Income','Tuition Affordability',\n",
    "          'Bars','Restaurants','Museums','Libraries','Parks','Top Restaurants']\n",
    "\n",
    "# Put available and labels in a two-dimensional list\n",
    "pairs = [available,labels]"
   ]
  },
  {
   "cell_type": "code",
   "execution_count": 3,
   "metadata": {
    "collapsed": true
   },
   "outputs": [],
   "source": [
    "import data_processing as dp\n",
    "(natural, human, economy, tertiary) = dp.read_data()\n",
    "alldata = human\n",
    "for i in[natural, economy, tertiary]:\n",
    "    factors = list(i.columns.values)\n",
    "    for j in factors:\n",
    "        alldata[j] = i[j]\n",
    "imp = pd.DataFrame()\n",
    "imp['City'] = alldata['City']\n",
    "imp['Population'] = alldata['Population'] \n",
    "imp['Crime'] = alldata['Violent'] + alldata['Rape'] + alldata['Robbery']\n",
    "imp['Colleges'] = alldata['Colleges']\n",
    "imp['Hospitals'] = alldata['NumHospital']\n",
    "imp['Air Score'] = alldata['Air']\n",
    "imp['Water Score'] = alldata['Water_quality']\n",
    "imp['Median Income'] = alldata['Median Income']\n",
    "imp['Restaurants'] = alldata['Restaurant']\n",
    "imp['Pro Sport team'] = alldata['Pro_sports_team']\n",
    "f = list(imp.columns.values)\n",
    "f.remove('City')\n",
    "f.remove('Population')"
   ]
  },
  {
   "cell_type": "markdown",
   "metadata": {},
   "source": [
    "## 2. Set up layout for User Interface"
   ]
  },
  {
   "cell_type": "code",
   "execution_count": 4,
   "metadata": {
    "collapsed": true
   },
   "outputs": [],
   "source": [
    "app = dash.Dash()\n",
    "# Get DataFrame value\n",
    "import UI_setup\n",
    "app.layout = UI_setup.layout_setup(pairs, f)"
   ]
  },
  {
   "cell_type": "markdown",
   "metadata": {},
   "source": [
    "## 3.Set up for default graph"
   ]
  },
  {
   "cell_type": "code",
   "execution_count": 5,
   "metadata": {
    "collapsed": true
   },
   "outputs": [],
   "source": [
    "@app.callback(\n",
    "    dash.dependencies.Output('graph-with-slider', 'figure'),\n",
    "    [dash.dependencies.Input('factor', 'value')])\n",
    "def update_figure(factor):\n",
    "    choose = f[factor]\n",
    "    return {\n",
    "        'data': [go.Scatter(\n",
    "            x=imp['Population'],\n",
    "            y=imp[choose],\n",
    "            text=imp['City'],\n",
    "            mode='markers',\n",
    "            opacity=0.7,\n",
    "            marker={\n",
    "                'size': 15,\n",
    "                'line': {'width': 0.5, 'color': 'white'}\n",
    "            }\n",
    "        )],\n",
    "        'layout': go.Layout(\n",
    "            xaxis={\n",
    "                'title': 'Population',\n",
    "                'type': 'linear' \n",
    "            },\n",
    "            yaxis={\n",
    "                'title': choose,\n",
    "                'type': 'linear' \n",
    "            },\n",
    "            margin={'l': 40, 'b': 30, 't': 10, 'r': 0},\n",
    "            hovermode='closest'\n",
    "        )\n",
    "    }\n"
   ]
  },
  {
   "cell_type": "code",
   "execution_count": 6,
   "metadata": {
    "collapsed": true
   },
   "outputs": [],
   "source": [
    "@app.callback(\n",
    "    dash.dependencies.Output('Total-graphic', 'figure'),\n",
    "    [dash.dependencies.Input('Total', 'n_clicks')]\n",
    ")\n",
    "def total_graph(Total):\n",
    "    if(Total is None):\n",
    "        return\n",
    "    #Total general rank\n",
    "    return {\n",
    "           usmap(rank)    \n",
    "        }"
   ]
  },
  {
   "cell_type": "code",
   "execution_count": 7,
   "metadata": {
    "collapsed": true
   },
   "outputs": [],
   "source": [
    "@app.callback(\n",
    "    dash.dependencies.Output('Human-graphic', 'figure'),\n",
    "    [dash.dependencies.Input('Hrank', 'n_clicks')]\n",
    ")\n",
    "def human_graph(Hrank):\n",
    "    if(Hrank is None):\n",
    "        return\n",
    "    #Total general rank\n",
    "    return {\n",
    "           usmap(rank, 'human')    \n",
    "        }"
   ]
  },
  {
   "cell_type": "code",
   "execution_count": 8,
   "metadata": {
    "collapsed": true
   },
   "outputs": [],
   "source": [
    "@app.callback(\n",
    "    dash.dependencies.Output('Natural-graphic', 'figure'),\n",
    "    [dash.dependencies.Input('Nrank', 'n_clicks')]\n",
    ")\n",
    "def natural_graph(Nrank):\n",
    "    if(Nrank is None):\n",
    "        return\n",
    "    #Total general rank\n",
    "    return {\n",
    "           usmap(rank, 'natural')    \n",
    "        }"
   ]
  },
  {
   "cell_type": "code",
   "execution_count": 9,
   "metadata": {
    "collapsed": true
   },
   "outputs": [],
   "source": [
    "@app.callback(\n",
    "    dash.dependencies.Output('Economic-graphic', 'figure'),\n",
    "    [dash.dependencies.Input('Erank', 'n_clicks')]\n",
    ")\n",
    "def economomic_graph(Erank):\n",
    "    if(Erank is None):\n",
    "        return\n",
    "    #Total general rank\n",
    "    return {\n",
    "           usmap(rank, 'economy')    \n",
    "        }"
   ]
  },
  {
   "cell_type": "code",
   "execution_count": 10,
   "metadata": {
    "collapsed": true
   },
   "outputs": [],
   "source": [
    "@app.callback(\n",
    "    dash.dependencies.Output('Tertiary-graphic', 'figure'),\n",
    "    [dash.dependencies.Input('Trank', 'n_clicks')]\n",
    ")\n",
    "def teritary_graph(Trank):\n",
    "    if(Trank is None):\n",
    "        return\n",
    "    #Total general rank\n",
    "    return {\n",
    "           usmap(rank, 'tertiary')    \n",
    "        }"
   ]
  },
  {
   "cell_type": "markdown",
   "metadata": {},
   "source": [
    "## 4.Set up for user call"
   ]
  },
  {
   "cell_type": "code",
   "execution_count": 11,
   "metadata": {
    "collapsed": true
   },
   "outputs": [],
   "source": [
    "@app.callback(\n",
    "    dash.dependencies.Output('User-graphic', 'figure'),\n",
    "    [dash.dependencies.Input('Search', 'n_clicks')],\n",
    "    [dash.dependencies.State('First-care', 'value'),\n",
    "     dash.dependencies.State('Second-care', 'value'),\n",
    "     dash.dependencies.State('Third-care', 'value'),\n",
    "     dash.dependencies.State('Fourth-care', 'value'),\n",
    "     dash.dependencies.State('Fifth-care', 'value'),\n",
    "    ]\n",
    ")\n",
    "    \n",
    "def user_DIY_graph(Search, First_care, Second_care, Third_care, Fourth_care, Fifth_care):\n",
    "    df = UI_setup.newdf(rank, First_care, Second_care, Third_care, Fourth_care, Fifth_care)\n",
    "    \n",
    "    limits = [(0,10),(10,20),(20,30),(30,40),(40,50)]\n",
    "    colors = [\"rgb(0,116,217)\",\"rgb(255,65,54)\",\"rgb(133,20,75)\",\"rgb(255,133,27)\",\"lightgrey\"]\n",
    "    cities = []\n",
    "\n",
    "\n",
    "    for i in range(len(limits)):\n",
    "        lim = limits[i]\n",
    "        df_sub = df[lim[0]:lim[1]]\n",
    "        city = dict(\n",
    "            type = 'scattergeo',\n",
    "            locationmode = 'USA-states',\n",
    "            lon = df_sub['longitude'],\n",
    "            lat = df_sub['latitude'],\n",
    "            text = df_sub['text'],\n",
    "            marker = dict(\n",
    "                size = df_sub['reverse_rank']*15,\n",
    "                color = colors[i],\n",
    "                line = dict(width=0.5, color='rgb(40,40,40)'),\n",
    "                sizemode = 'area'\n",
    "            ),\n",
    "            name = '{0} - {1}'.format(lim[0],lim[1]) )\n",
    "        cities.append(city)\n",
    "\n",
    "        layout = dict(\n",
    "            title = 'Your Dream City Results',\n",
    "            showlegend = True,\n",
    "            geo = dict(\n",
    "                scope='usa',\n",
    "                projection=dict( type='albers usa' ),\n",
    "                showland = True,\n",
    "                landcolor = 'rgb(217, 217, 217)',\n",
    "                subunitwidth=1,\n",
    "                countrywidth=1,\n",
    "                subunitcolor=\"rgb(255, 255, 255)\",\n",
    "                countrycolor=\"rgb(255, 255, 255)\"\n",
    "            ),\n",
    "        )\n",
    "        fig = dict( data=cities, layout=layout )\n",
    "        \n",
    "    return {   \n",
    "        plotly.offline.plot( fig, validate=False )     \n",
    "    }"
   ]
  },
  {
   "cell_type": "markdown",
   "metadata": {},
   "source": [
    "## 5. Running"
   ]
  },
  {
   "cell_type": "code",
   "execution_count": null,
   "metadata": {},
   "outputs": [
    {
     "name": "stderr",
     "output_type": "stream",
     "text": [
      " * Running on http://127.0.0.1:8050/ (Press CTRL+C to quit)\n",
      "127.0.0.1 - - [06/Dec/2017 13:17:37] \"GET / HTTP/1.1\" 200 -\n",
      "127.0.0.1 - - [06/Dec/2017 13:17:38] \"GET /_dash-layout HTTP/1.1\" 200 -\n",
      "127.0.0.1 - - [06/Dec/2017 13:17:38] \"GET /_dash-dependencies HTTP/1.1\" 200 -\n",
      "[2017-12-06 13:17:38,977] ERROR in app: Exception on /_dash-update-component [POST]\n",
      "Traceback (most recent call last):\n",
      "  File \"/Users/han/anaconda3/lib/python3.6/site-packages/flask/app.py\", line 1982, in wsgi_app\n",
      "    response = self.full_dispatch_request()\n",
      "  File \"/Users/han/anaconda3/lib/python3.6/site-packages/flask/app.py\", line 1614, in full_dispatch_request\n",
      "    rv = self.handle_user_exception(e)\n",
      "  File \"/Users/han/anaconda3/lib/python3.6/site-packages/flask/app.py\", line 1517, in handle_user_exception\n",
      "    reraise(exc_type, exc_value, tb)\n",
      "  File \"/Users/han/anaconda3/lib/python3.6/site-packages/flask/_compat.py\", line 33, in reraise\n",
      "    raise value\n",
      "  File \"/Users/han/anaconda3/lib/python3.6/site-packages/flask/app.py\", line 1612, in full_dispatch_request\n",
      "    rv = self.dispatch_request()\n",
      "  File \"/Users/han/anaconda3/lib/python3.6/site-packages/flask/app.py\", line 1598, in dispatch_request\n",
      "    return self.view_functions[rule.endpoint](**req.view_args)\n",
      "  File \"/Users/han/anaconda3/lib/python3.6/site-packages/dash/dash.py\", line 541, in dispatch\n",
      "    return self.callback_map[target_id]['callback'](*args)\n",
      "  File \"/Users/han/anaconda3/lib/python3.6/site-packages/dash/dash.py\", line 498, in add_context\n",
      "    output_value = func(*args, **kwargs)\n",
      "  File \"<ipython-input-11-e1792602013b>\", line 13, in user_DIY_graph\n",
      "    df = UI_setup.newdf(rank, First_care, Second_care, Third_care, Fourth_care, Fifth_care)\n",
      "  File \"/Users/han/Google Drive/CSE583/Project/uwseds-group-city-fynders/cityfynders/UI_setup.py\", line 148, in newdf\n",
      "    df['First'] = rank[First_care]\n",
      "  File \"/Users/han/anaconda3/lib/python3.6/site-packages/pandas/core/frame.py\", line 1964, in __getitem__\n",
      "    return self._getitem_column(key)\n",
      "  File \"/Users/han/anaconda3/lib/python3.6/site-packages/pandas/core/frame.py\", line 1971, in _getitem_column\n",
      "    return self._get_item_cache(key)\n",
      "  File \"/Users/han/anaconda3/lib/python3.6/site-packages/pandas/core/generic.py\", line 1645, in _get_item_cache\n",
      "    values = self._data.get(item)\n",
      "  File \"/Users/han/anaconda3/lib/python3.6/site-packages/pandas/core/internals.py\", line 3599, in get\n",
      "    raise ValueError(\"cannot label index with a null key\")\n",
      "ValueError: cannot label index with a null key\n",
      "127.0.0.1 - - [06/Dec/2017 13:17:38] \"POST /_dash-update-component HTTP/1.1\" 500 -\n",
      "127.0.0.1 - - [06/Dec/2017 13:17:38] \"POST /_dash-update-component HTTP/1.1\" 200 -\n",
      "127.0.0.1 - - [06/Dec/2017 13:17:38] \"POST /_dash-update-component HTTP/1.1\" 200 -\n",
      "127.0.0.1 - - [06/Dec/2017 13:17:38] \"POST /_dash-update-component HTTP/1.1\" 200 -\n",
      "127.0.0.1 - - [06/Dec/2017 13:17:38] \"POST /_dash-update-component HTTP/1.1\" 200 -\n",
      "127.0.0.1 - - [06/Dec/2017 13:17:38] \"POST /_dash-update-component HTTP/1.1\" 200 -\n",
      "127.0.0.1 - - [06/Dec/2017 13:17:39] \"POST /_dash-update-component HTTP/1.1\" 200 -\n",
      "127.0.0.1 - - [06/Dec/2017 13:17:39] \"GET /favicon.ico HTTP/1.1\" 200 -\n",
      "[2017-12-06 13:17:57,327] ERROR in app: Exception on /_dash-update-component [POST]\n",
      "Traceback (most recent call last):\n",
      "  File \"/Users/han/anaconda3/lib/python3.6/site-packages/flask/app.py\", line 1982, in wsgi_app\n",
      "    response = self.full_dispatch_request()\n",
      "  File \"/Users/han/anaconda3/lib/python3.6/site-packages/flask/app.py\", line 1614, in full_dispatch_request\n",
      "    rv = self.handle_user_exception(e)\n",
      "  File \"/Users/han/anaconda3/lib/python3.6/site-packages/flask/app.py\", line 1517, in handle_user_exception\n",
      "    reraise(exc_type, exc_value, tb)\n",
      "  File \"/Users/han/anaconda3/lib/python3.6/site-packages/flask/_compat.py\", line 33, in reraise\n",
      "    raise value\n",
      "  File \"/Users/han/anaconda3/lib/python3.6/site-packages/flask/app.py\", line 1612, in full_dispatch_request\n",
      "    rv = self.dispatch_request()\n",
      "  File \"/Users/han/anaconda3/lib/python3.6/site-packages/flask/app.py\", line 1598, in dispatch_request\n",
      "    return self.view_functions[rule.endpoint](**req.view_args)\n",
      "  File \"/Users/han/anaconda3/lib/python3.6/site-packages/dash/dash.py\", line 541, in dispatch\n",
      "    return self.callback_map[target_id]['callback'](*args)\n",
      "  File \"/Users/han/anaconda3/lib/python3.6/site-packages/dash/dash.py\", line 509, in add_context\n",
      "    cls=plotly.utils.PlotlyJSONEncoder),\n",
      "  File \"/Users/han/anaconda3/lib/python3.6/json/__init__.py\", line 238, in dumps\n",
      "    **kw).encode(obj)\n",
      "  File \"/Users/han/anaconda3/lib/python3.6/site-packages/plotly/utils.py\", line 136, in encode\n",
      "    encoded_o = super(PlotlyJSONEncoder, self).encode(o)\n",
      "  File \"/Users/han/anaconda3/lib/python3.6/json/encoder.py\", line 199, in encode\n",
      "    chunks = self.iterencode(o, _one_shot=True)\n",
      "  File \"/Users/han/anaconda3/lib/python3.6/json/encoder.py\", line 257, in iterencode\n",
      "    return _iterencode(o, 0)\n",
      "  File \"/Users/han/anaconda3/lib/python3.6/site-packages/plotly/utils.py\", line 204, in default\n",
      "    return _json.JSONEncoder.default(self, obj)\n",
      "  File \"/Users/han/anaconda3/lib/python3.6/json/encoder.py\", line 180, in default\n",
      "    o.__class__.__name__)\n",
      "TypeError: Object of type 'set' is not JSON serializable\n",
      "127.0.0.1 - - [06/Dec/2017 13:17:57] \"POST /_dash-update-component HTTP/1.1\" 500 -\n",
      "[2017-12-06 13:18:39,060] ERROR in app: Exception on /_dash-update-component [POST]\n",
      "Traceback (most recent call last):\n",
      "  File \"/Users/han/anaconda3/lib/python3.6/site-packages/flask/app.py\", line 1982, in wsgi_app\n",
      "    response = self.full_dispatch_request()\n",
      "  File \"/Users/han/anaconda3/lib/python3.6/site-packages/flask/app.py\", line 1614, in full_dispatch_request\n",
      "    rv = self.handle_user_exception(e)\n",
      "  File \"/Users/han/anaconda3/lib/python3.6/site-packages/flask/app.py\", line 1517, in handle_user_exception\n",
      "    reraise(exc_type, exc_value, tb)\n",
      "  File \"/Users/han/anaconda3/lib/python3.6/site-packages/flask/_compat.py\", line 33, in reraise\n",
      "    raise value\n",
      "  File \"/Users/han/anaconda3/lib/python3.6/site-packages/flask/app.py\", line 1612, in full_dispatch_request\n",
      "    rv = self.dispatch_request()\n",
      "  File \"/Users/han/anaconda3/lib/python3.6/site-packages/flask/app.py\", line 1598, in dispatch_request\n",
      "    return self.view_functions[rule.endpoint](**req.view_args)\n",
      "  File \"/Users/han/anaconda3/lib/python3.6/site-packages/dash/dash.py\", line 541, in dispatch\n",
      "    return self.callback_map[target_id]['callback'](*args)\n",
      "  File \"/Users/han/anaconda3/lib/python3.6/site-packages/dash/dash.py\", line 509, in add_context\n",
      "    cls=plotly.utils.PlotlyJSONEncoder),\n",
      "  File \"/Users/han/anaconda3/lib/python3.6/json/__init__.py\", line 238, in dumps\n",
      "    **kw).encode(obj)\n",
      "  File \"/Users/han/anaconda3/lib/python3.6/site-packages/plotly/utils.py\", line 136, in encode\n",
      "    encoded_o = super(PlotlyJSONEncoder, self).encode(o)\n",
      "  File \"/Users/han/anaconda3/lib/python3.6/json/encoder.py\", line 199, in encode\n",
      "    chunks = self.iterencode(o, _one_shot=True)\n",
      "  File \"/Users/han/anaconda3/lib/python3.6/json/encoder.py\", line 257, in iterencode\n",
      "    return _iterencode(o, 0)\n",
      "  File \"/Users/han/anaconda3/lib/python3.6/site-packages/plotly/utils.py\", line 204, in default\n",
      "    return _json.JSONEncoder.default(self, obj)\n",
      "  File \"/Users/han/anaconda3/lib/python3.6/json/encoder.py\", line 180, in default\n",
      "    o.__class__.__name__)\n",
      "TypeError: Object of type 'set' is not JSON serializable\n",
      "127.0.0.1 - - [06/Dec/2017 13:18:39] \"POST /_dash-update-component HTTP/1.1\" 500 -\n",
      "[2017-12-06 13:19:09,668] ERROR in app: Exception on /_dash-update-component [POST]\n",
      "Traceback (most recent call last):\n",
      "  File \"/Users/han/anaconda3/lib/python3.6/site-packages/flask/app.py\", line 1982, in wsgi_app\n",
      "    response = self.full_dispatch_request()\n",
      "  File \"/Users/han/anaconda3/lib/python3.6/site-packages/flask/app.py\", line 1614, in full_dispatch_request\n",
      "    rv = self.handle_user_exception(e)\n",
      "  File \"/Users/han/anaconda3/lib/python3.6/site-packages/flask/app.py\", line 1517, in handle_user_exception\n",
      "    reraise(exc_type, exc_value, tb)\n",
      "  File \"/Users/han/anaconda3/lib/python3.6/site-packages/flask/_compat.py\", line 33, in reraise\n",
      "    raise value\n",
      "  File \"/Users/han/anaconda3/lib/python3.6/site-packages/flask/app.py\", line 1612, in full_dispatch_request\n",
      "    rv = self.dispatch_request()\n",
      "  File \"/Users/han/anaconda3/lib/python3.6/site-packages/flask/app.py\", line 1598, in dispatch_request\n",
      "    return self.view_functions[rule.endpoint](**req.view_args)\n",
      "  File \"/Users/han/anaconda3/lib/python3.6/site-packages/dash/dash.py\", line 541, in dispatch\n",
      "    return self.callback_map[target_id]['callback'](*args)\n",
      "  File \"/Users/han/anaconda3/lib/python3.6/site-packages/dash/dash.py\", line 509, in add_context\n",
      "    cls=plotly.utils.PlotlyJSONEncoder),\n",
      "  File \"/Users/han/anaconda3/lib/python3.6/json/__init__.py\", line 238, in dumps\n",
      "    **kw).encode(obj)\n",
      "  File \"/Users/han/anaconda3/lib/python3.6/site-packages/plotly/utils.py\", line 136, in encode\n",
      "    encoded_o = super(PlotlyJSONEncoder, self).encode(o)\n",
      "  File \"/Users/han/anaconda3/lib/python3.6/json/encoder.py\", line 199, in encode\n",
      "    chunks = self.iterencode(o, _one_shot=True)\n",
      "  File \"/Users/han/anaconda3/lib/python3.6/json/encoder.py\", line 257, in iterencode\n",
      "    return _iterencode(o, 0)\n",
      "  File \"/Users/han/anaconda3/lib/python3.6/site-packages/plotly/utils.py\", line 204, in default\n",
      "    return _json.JSONEncoder.default(self, obj)\n",
      "  File \"/Users/han/anaconda3/lib/python3.6/json/encoder.py\", line 180, in default\n",
      "    o.__class__.__name__)\n",
      "TypeError: Object of type 'set' is not JSON serializable\n"
     ]
    },
    {
     "name": "stderr",
     "output_type": "stream",
     "text": [
      "127.0.0.1 - - [06/Dec/2017 13:19:09] \"POST /_dash-update-component HTTP/1.1\" 500 -\n"
     ]
    }
   ],
   "source": [
    "app.run_server()"
   ]
  },
  {
   "cell_type": "code",
   "execution_count": null,
   "metadata": {
    "collapsed": true
   },
   "outputs": [],
   "source": []
  }
 ],
 "metadata": {
  "kernelspec": {
   "display_name": "Python 3",
   "language": "python",
   "name": "python3"
  },
  "language_info": {
   "codemirror_mode": {
    "name": "ipython",
    "version": 3
   },
   "file_extension": ".py",
   "mimetype": "text/x-python",
   "name": "python",
   "nbconvert_exporter": "python",
   "pygments_lexer": "ipython3",
   "version": "3.6.2"
  }
 },
 "nbformat": 4,
 "nbformat_minor": 2
}
