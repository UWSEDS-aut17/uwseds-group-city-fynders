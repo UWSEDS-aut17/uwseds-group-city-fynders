{
 "cells": [
  {
   "cell_type": "markdown",
   "metadata": {},
   "source": [
    "# User Interface "
   ]
  },
  {
   "cell_type": "code",
   "execution_count": 3,
   "metadata": {},
   "outputs": [],
   "source": [
    "import dash\n",
    "import dash_core_components as dcc\n",
    "import dash_html_components as html\n",
    "import plotly.graph_objs as go\n",
    "import pandas as pd\n",
    "import plotly\n",
    "from plotly.offline import download_plotlyjs, init_notebook_mode, plot, iplot\n",
    "from plotly_usmap import usmap_default\n",
    "from plotly_usmap import usmap_choose\n",
    "from plotly_usmap import newdf"
   ]
  },
  {
   "cell_type": "markdown",
   "metadata": {},
   "source": [
    "## 1. Set up options for Dropdowns and Slider"
   ]
  },
  {
   "cell_type": "code",
   "execution_count": 6,
   "metadata": {},
   "outputs": [],
   "source": [
    "rank = pd.read_csv('../data/rank_file.csv')\n",
    "\n",
    "# Create a list of indicators \n",
    "available = list(rank.columns.values)\n",
    "for i in ['Unnamed: 0','City','State','Population','Natural_total_rank', 'Human_related_rank', \n",
    "          'Economy_rank', 'Tertiary_Rank', 'Latitude', 'Longitude']:\n",
    "    available.remove(i)\n",
    "    \n",
    "# Create a list of labels for dropdown\n",
    "labels = ['Air Quality','Water Quality','Fewer Toxics',\n",
    "          'Fewer Hazardous Particles','Green Coverage',\n",
    "          'Fewer Crimes','More Hospitals','Early Education Options',\n",
    "          'University Options','Employment Rate','Sales Revenue',\n",
    "          'Income','Tuition Affordability','Bars','Restaurants',\n",
    "          'Museums','Libraries','Parks','Top Restaurants']\n",
    "\n",
    "# Put available and labels in a two-dimensional list\n",
    "pairs = [available,labels]"
   ]
  },
  {
   "cell_type": "code",
   "execution_count": 7,
   "metadata": {},
   "outputs": [
    {
     "data": {
      "text/plain": [
       "[['Air',\n",
       "  'Water',\n",
       "  'Toxics',\n",
       "  'Hazardous',\n",
       "  'Green_score',\n",
       "  'Crime_rank',\n",
       "  'Hospital_rank',\n",
       "  'Early_education_rank',\n",
       "  'University_education_rank',\n",
       "  'Rank_unemployment',\n",
       "  'Rank_sale_rate',\n",
       "  'Rank_Income',\n",
       "  'Rank_Tuition',\n",
       "  'Bar_Rank',\n",
       "  'Restaurant_Rank',\n",
       "  'Museums_Rank',\n",
       "  'Libraries_Rank',\n",
       "  'Park_Rank',\n",
       "  'TopRes_Rank'],\n",
       " ['Air Quality',\n",
       "  'Water Quality',\n",
       "  'Fewer Toxics',\n",
       "  'Fewer Hazardous Particles',\n",
       "  'Green Coverage',\n",
       "  'Fewer Crimes',\n",
       "  'More Hospitals',\n",
       "  'Early Education Options',\n",
       "  'University Options',\n",
       "  'Employment Rate',\n",
       "  'Sales Revenue',\n",
       "  'Income',\n",
       "  'Tuition Affordability',\n",
       "  'Bars',\n",
       "  'Restaurants',\n",
       "  'Museums',\n",
       "  'Libraries',\n",
       "  'Parks',\n",
       "  'Top Restaurants']]"
      ]
     },
     "execution_count": 7,
     "metadata": {},
     "output_type": "execute_result"
    }
   ],
   "source": [
    "pairs"
   ]
  },
  {
   "cell_type": "markdown",
   "metadata": {},
   "source": [
    "## 2. Set up layout for User Interface"
   ]
  },
  {
   "cell_type": "code",
   "execution_count": 8,
   "metadata": {},
   "outputs": [],
   "source": [
    "app = dash.Dash()\n",
    "# Get DataFrame value\n",
    "import UI_setup\n",
    "app.layout = UI_setup.layout_setup(pairs)"
   ]
  },
  {
   "cell_type": "markdown",
   "metadata": {},
   "source": [
    "## 3.Set up for default graph"
   ]
  },
  {
   "cell_type": "code",
   "execution_count": 9,
   "metadata": {},
   "outputs": [],
   "source": [
    "@app.callback(\n",
    "    dash.dependencies.Output('Total-graphic', 'figure'),\n",
    "    [dash.dependencies.Input('Total', 'n_clicks')]\n",
    ")\n",
    "def total_graph(Total):\n",
    "    if(Total is None):\n",
    "        return\n",
    "    return {\n",
    "           usmap_default(rank)    \n",
    "        }\n",
    "@app.callback(\n",
    "    dash.dependencies.Output('Human-graphic', 'figure'),\n",
    "    [dash.dependencies.Input('Hrank', 'n_clicks')]\n",
    ")\n",
    "def human_graph(Hrank):\n",
    "    if(Hrank is None):\n",
    "        return\n",
    "    return {\n",
    "           usmap_default(rank, 'human')    \n",
    "        }\n",
    "@app.callback(\n",
    "    dash.dependencies.Output('Natural-graphic', 'figure'),\n",
    "    [dash.dependencies.Input('Nrank', 'n_clicks')]\n",
    ")\n",
    "def environment_graph(Nrank):\n",
    "    if(Nrank is None):\n",
    "        return\n",
    "    return {\n",
    "           usmap_default(rank, 'natural')    \n",
    "        }\n",
    "@app.callback(\n",
    "    dash.dependencies.Output('Economic-graphic', 'figure'),\n",
    "    [dash.dependencies.Input('Erank', 'n_clicks')]\n",
    ")\n",
    "def economy_graph(Erank):\n",
    "    if(Erank is None):\n",
    "        return\n",
    "    return {\n",
    "           usmap_default(rank, 'economy')    \n",
    "        }\n",
    "@app.callback(\n",
    "    dash.dependencies.Output('Tertiary-graphic', 'figure'),\n",
    "    [dash.dependencies.Input('Trank', 'n_clicks')]\n",
    ")\n",
    "def entertainment_graph(Trank):\n",
    "    if(Trank is None):\n",
    "        return\n",
    "    return {\n",
    "           usmap_default(rank, 'tertiary')    \n",
    "        }"
   ]
  },
  {
   "cell_type": "markdown",
   "metadata": {},
   "source": [
    "## 4.Set up for user call"
   ]
  },
  {
   "cell_type": "code",
   "execution_count": 10,
   "metadata": {},
   "outputs": [],
   "source": [
    "@app.callback(\n",
    "    dash.dependencies.Output('User-graphic', 'figure'),\n",
    "    [dash.dependencies.Input('Search', 'n_clicks')],\n",
    "    [dash.dependencies.State('First-care', 'value'),\n",
    "     dash.dependencies.State('Second-care', 'value'),\n",
    "     dash.dependencies.State('Third-care', 'value'),\n",
    "     dash.dependencies.State('Fourth-care', 'value'),\n",
    "     dash.dependencies.State('Fifth-care', 'value'),\n",
    "    ]\n",
    ")\n",
    "    \n",
    "def user_DIY_graph(Search, First_care, Second_care, Third_care, Fourth_care, Fifth_care):\n",
    "    df = newdf(rank, First_care, Second_care, Third_care, Fourth_care, Fifth_care)\n",
    "    \n",
    "    return {\n",
    "        usmap_choose(df)\n",
    "    }\n"
   ]
  },
  {
   "cell_type": "markdown",
   "metadata": {},
   "source": [
    "## 5. Running"
   ]
  },
  {
   "cell_type": "code",
   "execution_count": null,
   "metadata": {},
   "outputs": [
    {
     "name": "stderr",
     "output_type": "stream",
     "text": [
      " * Running on http://127.0.0.1:8050/ (Press CTRL+C to quit)\n",
      "127.0.0.1 - - [13/Dec/2017 13:03:52] \"GET / HTTP/1.1\" 200 -\n",
      "127.0.0.1 - - [13/Dec/2017 13:03:53] \"GET /_dash-layout HTTP/1.1\" 200 -\n",
      "127.0.0.1 - - [13/Dec/2017 13:03:53] \"GET /_dash-dependencies HTTP/1.1\" 200 -\n",
      "[2017-12-13 13:03:53,539] ERROR in app: Exception on /_dash-update-component [POST]\n",
      "Traceback (most recent call last):\n",
      "  File \"/Users/han/anaconda3/lib/python3.6/site-packages/flask/app.py\", line 1982, in wsgi_app\n",
      "    response = self.full_dispatch_request()\n",
      "  File \"/Users/han/anaconda3/lib/python3.6/site-packages/flask/app.py\", line 1614, in full_dispatch_request\n",
      "    rv = self.handle_user_exception(e)\n",
      "  File \"/Users/han/anaconda3/lib/python3.6/site-packages/flask/app.py\", line 1517, in handle_user_exception\n",
      "    reraise(exc_type, exc_value, tb)\n",
      "  File \"/Users/han/anaconda3/lib/python3.6/site-packages/flask/_compat.py\", line 33, in reraise\n",
      "    raise value\n",
      "  File \"/Users/han/anaconda3/lib/python3.6/site-packages/flask/app.py\", line 1612, in full_dispatch_request\n",
      "    rv = self.dispatch_request()\n",
      "  File \"/Users/han/anaconda3/lib/python3.6/site-packages/flask/app.py\", line 1598, in dispatch_request\n",
      "    return self.view_functions[rule.endpoint](**req.view_args)\n",
      "  File \"/Users/han/anaconda3/lib/python3.6/site-packages/dash/dash.py\", line 541, in dispatch\n",
      "    return self.callback_map[target_id]['callback'](*args)\n",
      "  File \"/Users/han/anaconda3/lib/python3.6/site-packages/dash/dash.py\", line 498, in add_context\n",
      "    output_value = func(*args, **kwargs)\n",
      "  File \"<ipython-input-10-f1c169c53000>\", line 13, in user_DIY_graph\n",
      "    df = newdf(rank, First_care, Second_care, Third_care, Fourth_care, Fifth_care)\n",
      "  File \"/Users/han/Google Drive/CSE583/Project/uwseds-group-city-fynders/cityfynders/plotly_usmap.py\", line 154, in newdf\n",
      "    df['First'] = rank[First_care]\n",
      "  File \"/Users/han/anaconda3/lib/python3.6/site-packages/pandas/core/frame.py\", line 1964, in __getitem__\n",
      "    return self._getitem_column(key)\n",
      "  File \"/Users/han/anaconda3/lib/python3.6/site-packages/pandas/core/frame.py\", line 1971, in _getitem_column\n",
      "    return self._get_item_cache(key)\n",
      "  File \"/Users/han/anaconda3/lib/python3.6/site-packages/pandas/core/generic.py\", line 1645, in _get_item_cache\n",
      "    values = self._data.get(item)\n",
      "  File \"/Users/han/anaconda3/lib/python3.6/site-packages/pandas/core/internals.py\", line 3599, in get\n",
      "    raise ValueError(\"cannot label index with a null key\")\n",
      "ValueError: cannot label index with a null key\n",
      "127.0.0.1 - - [13/Dec/2017 13:03:53] \"POST /_dash-update-component HTTP/1.1\" 500 -\n",
      "127.0.0.1 - - [13/Dec/2017 13:03:53] \"POST /_dash-update-component HTTP/1.1\" 200 -\n",
      "127.0.0.1 - - [13/Dec/2017 13:03:53] \"POST /_dash-update-component HTTP/1.1\" 200 -\n",
      "127.0.0.1 - - [13/Dec/2017 13:03:53] \"POST /_dash-update-component HTTP/1.1\" 200 -\n",
      "127.0.0.1 - - [13/Dec/2017 13:03:53] \"POST /_dash-update-component HTTP/1.1\" 200 -\n",
      "127.0.0.1 - - [13/Dec/2017 13:03:53] \"POST /_dash-update-component HTTP/1.1\" 200 -\n",
      "127.0.0.1 - - [13/Dec/2017 13:03:53] \"GET /favicon.ico HTTP/1.1\" 200 -\n",
      "[2017-12-13 13:04:09,196] ERROR in app: Exception on /_dash-update-component [POST]\n",
      "Traceback (most recent call last):\n",
      "  File \"/Users/han/anaconda3/lib/python3.6/site-packages/flask/app.py\", line 1982, in wsgi_app\n",
      "    response = self.full_dispatch_request()\n",
      "  File \"/Users/han/anaconda3/lib/python3.6/site-packages/flask/app.py\", line 1614, in full_dispatch_request\n",
      "    rv = self.handle_user_exception(e)\n",
      "  File \"/Users/han/anaconda3/lib/python3.6/site-packages/flask/app.py\", line 1517, in handle_user_exception\n",
      "    reraise(exc_type, exc_value, tb)\n",
      "  File \"/Users/han/anaconda3/lib/python3.6/site-packages/flask/_compat.py\", line 33, in reraise\n",
      "    raise value\n",
      "  File \"/Users/han/anaconda3/lib/python3.6/site-packages/flask/app.py\", line 1612, in full_dispatch_request\n",
      "    rv = self.dispatch_request()\n",
      "  File \"/Users/han/anaconda3/lib/python3.6/site-packages/flask/app.py\", line 1598, in dispatch_request\n",
      "    return self.view_functions[rule.endpoint](**req.view_args)\n",
      "  File \"/Users/han/anaconda3/lib/python3.6/site-packages/dash/dash.py\", line 541, in dispatch\n",
      "    return self.callback_map[target_id]['callback'](*args)\n",
      "  File \"/Users/han/anaconda3/lib/python3.6/site-packages/dash/dash.py\", line 498, in add_context\n",
      "    output_value = func(*args, **kwargs)\n",
      "  File \"<ipython-input-10-f1c169c53000>\", line 16, in user_DIY_graph\n",
      "    usmap_choose(df)\n",
      "TypeError: unhashable type: 'set'\n",
      "127.0.0.1 - - [13/Dec/2017 13:04:09] \"POST /_dash-update-component HTTP/1.1\" 500 -\n"
     ]
    }
   ],
   "source": [
    "app.run_server()"
   ]
  },
  {
   "cell_type": "code",
   "execution_count": null,
   "metadata": {
    "collapsed": true
   },
   "outputs": [],
   "source": []
  },
  {
   "cell_type": "code",
   "execution_count": null,
   "metadata": {
    "collapsed": true
   },
   "outputs": [],
   "source": []
  }
 ],
 "metadata": {
  "kernelspec": {
   "display_name": "Python 3",
   "language": "python",
   "name": "python3"
  },
  "language_info": {
   "codemirror_mode": {
    "name": "ipython",
    "version": 3
   },
   "file_extension": ".py",
   "mimetype": "text/x-python",
   "name": "python",
   "nbconvert_exporter": "python",
   "pygments_lexer": "ipython3",
   "version": "3.6.2"
  }
 },
 "nbformat": 4,
 "nbformat_minor": 2
}
